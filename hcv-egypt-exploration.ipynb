{
 "cells": [
  {
   "cell_type": "markdown",
   "metadata": {
    "_cell_guid": "a623409d-ddc2-401e-af4f-8fb5b8c673e2",
    "_uuid": "7018750b-2bdd-44bf-bf63-5bbc28926e6c"
   },
   "source": [
    "<hr>\n",
    "# Setting Up"
   ]
  },
  {
   "cell_type": "code",
   "execution_count": 1,
   "metadata": {
    "_cell_guid": "5460fb2e-843d-4c24-a565-d8272633e37a",
    "_execution_state": "idle",
    "_uuid": "2945353d-2142-4457-b6e8-980ce31b6bca"
   },
   "outputs": [
    {
     "name": "stderr",
     "output_type": "stream",
     "text": [
      "── \u001b[1mAttaching packages\u001b[22m ─────────────────────────────────────── tidyverse 1.2.1 ──\n",
      "\n",
      "\u001b[32m✔\u001b[39m \u001b[34mggplot2\u001b[39m 3.2.1.\u001b[31m9000\u001b[39m     \u001b[32m✔\u001b[39m \u001b[34mpurrr  \u001b[39m 0.3.3     \n",
      "\u001b[32m✔\u001b[39m \u001b[34mtibble \u001b[39m 2.1.3          \u001b[32m✔\u001b[39m \u001b[34mdplyr  \u001b[39m 0.8.3     \n",
      "\u001b[32m✔\u001b[39m \u001b[34mtidyr  \u001b[39m 1.0.0          \u001b[32m✔\u001b[39m \u001b[34mstringr\u001b[39m 1.4.0     \n",
      "\u001b[32m✔\u001b[39m \u001b[34mreadr  \u001b[39m 1.3.1          \u001b[32m✔\u001b[39m \u001b[34mforcats\u001b[39m 0.4.0     \n",
      "\n",
      "── \u001b[1mConflicts\u001b[22m ────────────────────────────────────────── tidyverse_conflicts() ──\n",
      "\u001b[31m✖\u001b[39m \u001b[34mdplyr\u001b[39m::\u001b[32mfilter()\u001b[39m masks \u001b[34mstats\u001b[39m::filter()\n",
      "\u001b[31m✖\u001b[39m \u001b[34mdplyr\u001b[39m::\u001b[32mlag()\u001b[39m    masks \u001b[34mstats\u001b[39m::lag()\n",
      "\n"
     ]
    },
    {
     "data": {
      "text/html": [
       "'hepatitis-c-virus-hcv-for-egyptian-patients'"
      ],
      "text/latex": [
       "'hepatitis-c-virus-hcv-for-egyptian-patients'"
      ],
      "text/markdown": [
       "'hepatitis-c-virus-hcv-for-egyptian-patients'"
      ],
      "text/plain": [
       "[1] \"hepatitis-c-virus-hcv-for-egyptian-patients\""
      ]
     },
     "metadata": {},
     "output_type": "display_data"
    }
   ],
   "source": [
    "## Importing packages\n",
    "\n",
    "# This R environment comes with all of CRAN and many other helpful packages preinstalled.\n",
    "# You can see which packages are installed by checking out the kaggle/rstats docker image: \n",
    "# https://github.com/kaggle/docker-rstats\n",
    "\n",
    "library(tidyverse) # metapackage with lots of helpful functions\n",
    "\n",
    "## Running code\n",
    "\n",
    "# In a notebook, you can run a single code cell by clicking in the cell and then hitting \n",
    "# the blue arrow to the left, or by clicking in the cell and pressing Shift+Enter. In a script, \n",
    "# you can run code by highlighting the code you want to run and then clicking the blue arrow\n",
    "# at the bottom of this window.\n",
    "\n",
    "## Reading in files\n",
    "\n",
    "# You can access files from datasets you've added to this kernel in the \"../input/\" directory.\n",
    "# You can see the files added to this kernel by running the code below. \n",
    "\n",
    "list.files(path = \"../input\")\n",
    "\n",
    "## Saving data\n",
    "\n",
    "# If you save any files or images, these will be put in the \"output\" directory. You \n",
    "# can see the output directory by committing and running your kernel (using the \n",
    "# Commit & Run button) and then checking out the compiled version of your kernel."
   ]
  },
  {
   "cell_type": "code",
   "execution_count": 2,
   "metadata": {
    "_cell_guid": "92e1505b-8eb8-42d6-b7ab-3c75b01c215b",
    "_uuid": "e9f9fad3-ae64-4ecc-89f6-9f653e021482"
   },
   "outputs": [
    {
     "name": "stderr",
     "output_type": "stream",
     "text": [
      "Loading required package: gridExtra\n",
      "\n",
      "\n",
      "Attaching package: ‘gridExtra’\n",
      "\n",
      "\n",
      "The following object is masked from ‘package:dplyr’:\n",
      "\n",
      "    combine\n",
      "\n",
      "\n"
     ]
    }
   ],
   "source": [
    "library(pacman)\n",
    "pacman::p_load(pacman, rio)\n",
    "require(gridExtra)"
   ]
  },
  {
   "cell_type": "markdown",
   "metadata": {
    "_cell_guid": "59b16b9a-8c81-4638-a9e5-d43dbbf054e4",
    "_uuid": "999c4bd5-9f12-462f-bb65-2681dc00cb70"
   },
   "source": [
    "<hr>\n",
    "# Importing CSV Files"
   ]
  },
  {
   "cell_type": "code",
   "execution_count": 3,
   "metadata": {
    "_cell_guid": "c0897331-179c-4401-bfbd-4ba464bf94e8",
    "_uuid": "b268fad5-05e1-4e05-aaef-0321cfa43495"
   },
   "outputs": [
    {
     "data": {
      "text/html": [
       "<table>\n",
       "<caption>A data.frame: 6 × 29</caption>\n",
       "<thead>\n",
       "\t<tr><th></th><th scope=col>Age</th><th scope=col>Gender</th><th scope=col>BMI</th><th scope=col>Fever</th><th scope=col>Nausea/Vomting</th><th scope=col>Headache</th><th scope=col>Diarrhea</th><th scope=col>Fatigue &amp; generalized bone ache</th><th scope=col>Jaundice</th><th scope=col>Epigastric pain</th><th scope=col>⋯</th><th scope=col>ALT 36</th><th scope=col>ALT 48</th><th scope=col>ALT after 24 w</th><th scope=col>RNA Base</th><th scope=col>RNA 4</th><th scope=col>RNA 12</th><th scope=col>RNA EOT</th><th scope=col>RNA EF</th><th scope=col>Baseline histological Grading</th><th scope=col>Baselinehistological staging</th></tr>\n",
       "\t<tr><th></th><th scope=col>&lt;int&gt;</th><th scope=col>&lt;int&gt;</th><th scope=col>&lt;int&gt;</th><th scope=col>&lt;int&gt;</th><th scope=col>&lt;int&gt;</th><th scope=col>&lt;int&gt;</th><th scope=col>&lt;int&gt;</th><th scope=col>&lt;int&gt;</th><th scope=col>&lt;int&gt;</th><th scope=col>&lt;int&gt;</th><th scope=col>⋯</th><th scope=col>&lt;int&gt;</th><th scope=col>&lt;int&gt;</th><th scope=col>&lt;int&gt;</th><th scope=col>&lt;int&gt;</th><th scope=col>&lt;int&gt;</th><th scope=col>&lt;int&gt;</th><th scope=col>&lt;int&gt;</th><th scope=col>&lt;int&gt;</th><th scope=col>&lt;int&gt;</th><th scope=col>&lt;int&gt;</th></tr>\n",
       "</thead>\n",
       "<tbody>\n",
       "\t<tr><th scope=row>1</th><td>56</td><td>1</td><td>35</td><td>2</td><td>1</td><td>1</td><td>1</td><td>2</td><td>2</td><td>2</td><td>⋯</td><td> 5</td><td>  5</td><td> 5</td><td> 655330</td><td> 634536</td><td> 288194</td><td>     5</td><td>     5</td><td>13</td><td>2</td></tr>\n",
       "\t<tr><th scope=row>2</th><td>46</td><td>1</td><td>29</td><td>1</td><td>2</td><td>2</td><td>1</td><td>2</td><td>2</td><td>1</td><td>⋯</td><td>57</td><td>123</td><td>44</td><td>  40620</td><td> 538635</td><td> 637056</td><td>336804</td><td> 31085</td><td> 4</td><td>2</td></tr>\n",
       "\t<tr><th scope=row>3</th><td>57</td><td>1</td><td>33</td><td>2</td><td>2</td><td>2</td><td>2</td><td>1</td><td>1</td><td>1</td><td>⋯</td><td> 5</td><td>  5</td><td> 5</td><td> 571148</td><td> 661346</td><td>      5</td><td>735945</td><td>558829</td><td> 4</td><td>4</td></tr>\n",
       "\t<tr><th scope=row>4</th><td>49</td><td>2</td><td>33</td><td>1</td><td>2</td><td>1</td><td>2</td><td>1</td><td>2</td><td>1</td><td>⋯</td><td>48</td><td> 77</td><td>33</td><td>1041941</td><td> 449939</td><td> 585688</td><td>744463</td><td>582301</td><td>10</td><td>3</td></tr>\n",
       "\t<tr><th scope=row>5</th><td>59</td><td>1</td><td>32</td><td>1</td><td>1</td><td>2</td><td>1</td><td>2</td><td>2</td><td>2</td><td>⋯</td><td>94</td><td> 90</td><td>30</td><td> 660410</td><td> 738756</td><td>3731527</td><td>338946</td><td>242861</td><td>11</td><td>1</td></tr>\n",
       "\t<tr><th scope=row>6</th><td>58</td><td>2</td><td>22</td><td>2</td><td>2</td><td>2</td><td>1</td><td>2</td><td>2</td><td>1</td><td>⋯</td><td>73</td><td>114</td><td>29</td><td>1157452</td><td>1086852</td><td>      5</td><td>     5</td><td>     5</td><td> 4</td><td>4</td></tr>\n",
       "</tbody>\n",
       "</table>\n"
      ],
      "text/latex": [
       "A data.frame: 6 × 29\n",
       "\\begin{tabular}{r|lllllllllllllllllllll}\n",
       "  & Age & Gender & BMI & Fever & Nausea/Vomting & Headache & Diarrhea & Fatigue \\& generalized bone ache & Jaundice & Epigastric pain & ⋯ & ALT 36 & ALT 48 & ALT after 24 w & RNA Base & RNA 4 & RNA 12 & RNA EOT & RNA EF & Baseline histological Grading & Baselinehistological staging\\\\\n",
       "  & <int> & <int> & <int> & <int> & <int> & <int> & <int> & <int> & <int> & <int> & ⋯ & <int> & <int> & <int> & <int> & <int> & <int> & <int> & <int> & <int> & <int>\\\\\n",
       "\\hline\n",
       "\t1 & 56 & 1 & 35 & 2 & 1 & 1 & 1 & 2 & 2 & 2 & ⋯ &  5 &   5 &  5 &  655330 &  634536 &  288194 &      5 &      5 & 13 & 2\\\\\n",
       "\t2 & 46 & 1 & 29 & 1 & 2 & 2 & 1 & 2 & 2 & 1 & ⋯ & 57 & 123 & 44 &   40620 &  538635 &  637056 & 336804 &  31085 &  4 & 2\\\\\n",
       "\t3 & 57 & 1 & 33 & 2 & 2 & 2 & 2 & 1 & 1 & 1 & ⋯ &  5 &   5 &  5 &  571148 &  661346 &       5 & 735945 & 558829 &  4 & 4\\\\\n",
       "\t4 & 49 & 2 & 33 & 1 & 2 & 1 & 2 & 1 & 2 & 1 & ⋯ & 48 &  77 & 33 & 1041941 &  449939 &  585688 & 744463 & 582301 & 10 & 3\\\\\n",
       "\t5 & 59 & 1 & 32 & 1 & 1 & 2 & 1 & 2 & 2 & 2 & ⋯ & 94 &  90 & 30 &  660410 &  738756 & 3731527 & 338946 & 242861 & 11 & 1\\\\\n",
       "\t6 & 58 & 2 & 22 & 2 & 2 & 2 & 1 & 2 & 2 & 1 & ⋯ & 73 & 114 & 29 & 1157452 & 1086852 &       5 &      5 &      5 &  4 & 4\\\\\n",
       "\\end{tabular}\n"
      ],
      "text/markdown": [
       "\n",
       "A data.frame: 6 × 29\n",
       "\n",
       "| <!--/--> | Age &lt;int&gt; | Gender &lt;int&gt; | BMI &lt;int&gt; | Fever &lt;int&gt; | Nausea/Vomting &lt;int&gt; | Headache &lt;int&gt; | Diarrhea &lt;int&gt; | Fatigue &amp; generalized bone ache &lt;int&gt; | Jaundice &lt;int&gt; | Epigastric pain &lt;int&gt; | ⋯ ⋯ | ALT 36 &lt;int&gt; | ALT 48 &lt;int&gt; | ALT after 24 w &lt;int&gt; | RNA Base &lt;int&gt; | RNA 4 &lt;int&gt; | RNA 12 &lt;int&gt; | RNA EOT &lt;int&gt; | RNA EF &lt;int&gt; | Baseline histological Grading &lt;int&gt; | Baselinehistological staging &lt;int&gt; |\n",
       "|---|---|---|---|---|---|---|---|---|---|---|---|---|---|---|---|---|---|---|---|---|---|\n",
       "| 1 | 56 | 1 | 35 | 2 | 1 | 1 | 1 | 2 | 2 | 2 | ⋯ |  5 |   5 |  5 |  655330 |  634536 |  288194 |      5 |      5 | 13 | 2 |\n",
       "| 2 | 46 | 1 | 29 | 1 | 2 | 2 | 1 | 2 | 2 | 1 | ⋯ | 57 | 123 | 44 |   40620 |  538635 |  637056 | 336804 |  31085 |  4 | 2 |\n",
       "| 3 | 57 | 1 | 33 | 2 | 2 | 2 | 2 | 1 | 1 | 1 | ⋯ |  5 |   5 |  5 |  571148 |  661346 |       5 | 735945 | 558829 |  4 | 4 |\n",
       "| 4 | 49 | 2 | 33 | 1 | 2 | 1 | 2 | 1 | 2 | 1 | ⋯ | 48 |  77 | 33 | 1041941 |  449939 |  585688 | 744463 | 582301 | 10 | 3 |\n",
       "| 5 | 59 | 1 | 32 | 1 | 1 | 2 | 1 | 2 | 2 | 2 | ⋯ | 94 |  90 | 30 |  660410 |  738756 | 3731527 | 338946 | 242861 | 11 | 1 |\n",
       "| 6 | 58 | 2 | 22 | 2 | 2 | 2 | 1 | 2 | 2 | 1 | ⋯ | 73 | 114 | 29 | 1157452 | 1086852 |       5 |      5 |      5 |  4 | 4 |\n",
       "\n"
      ],
      "text/plain": [
       "  Age Gender BMI Fever Nausea/Vomting Headache Diarrhea\n",
       "1 56  1      35  2     1              1        1       \n",
       "2 46  1      29  1     2              2        1       \n",
       "3 57  1      33  2     2              2        2       \n",
       "4 49  2      33  1     2              1        2       \n",
       "5 59  1      32  1     1              2        1       \n",
       "6 58  2      22  2     2              2        1       \n",
       "  Fatigue & generalized bone ache Jaundice Epigastric pain ⋯ ALT 36 ALT 48\n",
       "1 2                               2        2               ⋯  5       5   \n",
       "2 2                               2        1               ⋯ 57     123   \n",
       "3 1                               1        1               ⋯  5       5   \n",
       "4 1                               2        1               ⋯ 48      77   \n",
       "5 2                               2        2               ⋯ 94      90   \n",
       "6 2                               2        1               ⋯ 73     114   \n",
       "  ALT after 24 w RNA Base RNA 4   RNA 12  RNA EOT RNA EF\n",
       "1  5              655330   634536  288194      5       5\n",
       "2 44               40620   538635  637056 336804   31085\n",
       "3  5              571148   661346       5 735945  558829\n",
       "4 33             1041941   449939  585688 744463  582301\n",
       "5 30              660410   738756 3731527 338946  242861\n",
       "6 29             1157452  1086852       5      5       5\n",
       "  Baseline histological Grading Baselinehistological staging\n",
       "1 13                            2                           \n",
       "2  4                            2                           \n",
       "3  4                            4                           \n",
       "4 10                            3                           \n",
       "5 11                            1                           \n",
       "6  4                            4                           "
      ]
     },
     "metadata": {},
     "output_type": "display_data"
    },
    {
     "data": {
      "text/html": [
       "<table>\n",
       "<caption>A data.frame: 29 × 3</caption>\n",
       "<thead>\n",
       "\t<tr><th></th><th scope=col>Feature Names</th><th scope=col>Feature Values</th><th scope=col>Discretization (Items)</th></tr>\n",
       "\t<tr><th></th><th scope=col>&lt;chr&gt;</th><th scope=col>&lt;chr&gt;</th><th scope=col>&lt;chr&gt;</th></tr>\n",
       "</thead>\n",
       "<tbody>\n",
       "\t<tr><th scope=row>1</th><td>Age                          </td><td>32:61          </td><td>[0; 32], ]32; 37], ]37; 42],]42; 47], ]47; 52], ]52; 57],]57; 62]                                          </td></tr>\n",
       "\t<tr><th scope=row>2</th><td>Gender                       </td><td>Male,Female    </td><td>[Male], [Female]                                                                                           </td></tr>\n",
       "\t<tr><th scope=row>3</th><td>BMI(Body Mass Index)         </td><td>22:35          </td><td>[0; 18:5[ [18:5; 25[, [25; 30[, [30; 35[, [35; 40[                                                         </td></tr>\n",
       "\t<tr><th scope=row>4</th><td>Fever                        </td><td>Absent, Present</td><td>[Absent], [Present] -                                                                                      </td></tr>\n",
       "\t<tr><th scope=row>5</th><td>Nausea/Vomiting              </td><td>Absent, Present</td><td>[Absent], [Present] -                                                                                      </td></tr>\n",
       "\t<tr><th scope=row>6</th><td>Headache                     </td><td>Absent, Present</td><td>[Absent], [Present] -                                                                                      </td></tr>\n",
       "\t<tr><th scope=row>7</th><td>Diarrhea                     </td><td>Absent, Present</td><td>[Absent], [Present] -                                                                                      </td></tr>\n",
       "\t<tr><th scope=row>8</th><td>Fatigue                      </td><td>Absent, Present</td><td>[Absent], [Present] -                                                                                      </td></tr>\n",
       "\t<tr><th scope=row>9</th><td>Bone ache                    </td><td>Absent, Present</td><td>[Absent], [Present] -                                                                                      </td></tr>\n",
       "\t<tr><th scope=row>10</th><td>Jaundice                     </td><td>Absent, Present</td><td>[Absent], [Present] -                                                                                      </td></tr>\n",
       "\t<tr><th scope=row>11</th><td>Epigastria pain              </td><td>Absent, Present</td><td>[Absent], [Present] -                                                                                      </td></tr>\n",
       "\t<tr><th scope=row>12</th><td>WBC(White Blood Cells)       </td><td>2991:12101     </td><td>[0; 4000[, [4000; 11000[, [11000; 12101]                                                                   </td></tr>\n",
       "\t<tr><th scope=row>13</th><td>RBC(Red Blood Cells)         </td><td>3816422:5018451</td><td>[0; 3000000[, [3000000; 5000000[,[5000000; 5018451]                                                        </td></tr>\n",
       "\t<tr><th scope=row>14</th><td>HGB(Hemoglobin)              </td><td>2:20           </td><td>If (Gender==[Male]):[2; 14[, [14; 17:5], ]17:5; 20]If(Gender==[Female]):[2; 12:3[, [12:3; 15:3], ]15:3; 20]</td></tr>\n",
       "\t<tr><th scope=row>15</th><td>Plat(Platelet)               </td><td>93013:226464   </td><td>[93013; 100000[, [100000; 255000[,[255000; 226465[                                                         </td></tr>\n",
       "\t<tr><th scope=row>16</th><td>AST1(1 week)                 </td><td>0.088888889    </td><td>[0; 20[, [20; 40], ]40; 128]                                                                               </td></tr>\n",
       "\t<tr><th scope=row>17</th><td>ALT1(1 week)                 </td><td>0.088888889    </td><td>[0; 20[, [20; 40], ]40; 128]                                                                               </td></tr>\n",
       "\t<tr><th scope=row>18</th><td>ALT4(4 weeks)                </td><td>0.088888889    </td><td>[0; 20[, [20; 40], ]40; 128]                                                                               </td></tr>\n",
       "\t<tr><th scope=row>19</th><td>ALT12(12 weeks)              </td><td>0.088888889    </td><td>[0; 20[, [20; 40], ]40; 128]                                                                               </td></tr>\n",
       "\t<tr><th scope=row>20</th><td>ALT24(24 weeks)              </td><td>0.088888889    </td><td>[0; 20[, [20; 40], ]40; 128]                                                                               </td></tr>\n",
       "\t<tr><th scope=row>21</th><td>ALT36(36 weeks)              </td><td>0.088888889    </td><td>[0; 20[, [20; 40], ]40; 128]                                                                               </td></tr>\n",
       "\t<tr><th scope=row>22</th><td>ALT48(48 weeks)              </td><td>0.088888889    </td><td>[0; 20[, [20; 40], ]40; 128]                                                                               </td></tr>\n",
       "\t<tr><th scope=row>23</th><td>RNA Base                     </td><td>0:1201086      </td><td>[0; 5], ]5; 1201086]                                                                                       </td></tr>\n",
       "\t<tr><th scope=row>24</th><td>RNA 4                        </td><td>0:1201715      </td><td>[0; 5], ]5; 1201715]                                                                                       </td></tr>\n",
       "\t<tr><th scope=row>25</th><td>RNA 12                       </td><td>0:3731527      </td><td>[0; 5], ]5; 3731527]                                                                                       </td></tr>\n",
       "\t<tr><th scope=row>26</th><td>RNA EOT                      </td><td>0:808450       </td><td>[0; 5], ]5; 808450]                                                                                        </td></tr>\n",
       "\t<tr><th scope=row>27</th><td>RNA EF(Elongation Factor)    </td><td>0:808450       </td><td>[0; 5], ]5; 808450]                                                                                        </td></tr>\n",
       "\t<tr><th scope=row>28</th><td>Baseline Histological Grading</td><td>1:16           </td><td>[1]; [2]; [3]; :::[16]                                                                                     </td></tr>\n",
       "\t<tr><th scope=row>29</th><td>Baseline Histological        </td><td>F0:F4          </td><td>[No Fibrosis], [Portal Fibrosis],Staging (Class Label) [Few Septa], [Many Septa], [Cirrhosis]              </td></tr>\n",
       "</tbody>\n",
       "</table>\n"
      ],
      "text/latex": [
       "A data.frame: 29 × 3\n",
       "\\begin{tabular}{r|lll}\n",
       "  & Feature Names & Feature Values & Discretization (Items)\\\\\n",
       "  & <chr> & <chr> & <chr>\\\\\n",
       "\\hline\n",
       "\t1 & Age                           & 32:61           & {[}0; 32{]}, {]}32; 37{]}, {]}37; 42{]},{]}42; 47{]}, {]}47; 52{]}, {]}52; 57{]},{]}57; 62{]}                                          \\\\\n",
       "\t2 & Gender                        & Male,Female     & {[}Male{]}, {[}Female{]}                                                                                           \\\\\n",
       "\t3 & BMI(Body Mass Index)          & 22:35           & {[}0; 18:5{[} {[}18:5; 25{[}, {[}25; 30{[}, {[}30; 35{[}, {[}35; 40{[}                                                         \\\\\n",
       "\t4 & Fever                         & Absent, Present & {[}Absent{]}, {[}Present{]} -                                                                                      \\\\\n",
       "\t5 & Nausea/Vomiting               & Absent, Present & {[}Absent{]}, {[}Present{]} -                                                                                      \\\\\n",
       "\t6 & Headache                      & Absent, Present & {[}Absent{]}, {[}Present{]} -                                                                                      \\\\\n",
       "\t7 & Diarrhea                      & Absent, Present & {[}Absent{]}, {[}Present{]} -                                                                                      \\\\\n",
       "\t8 & Fatigue                       & Absent, Present & {[}Absent{]}, {[}Present{]} -                                                                                      \\\\\n",
       "\t9 & Bone ache                     & Absent, Present & {[}Absent{]}, {[}Present{]} -                                                                                      \\\\\n",
       "\t10 & Jaundice                      & Absent, Present & {[}Absent{]}, {[}Present{]} -                                                                                      \\\\\n",
       "\t11 & Epigastria pain               & Absent, Present & {[}Absent{]}, {[}Present{]} -                                                                                      \\\\\n",
       "\t12 & WBC(White Blood Cells)        & 2991:12101      & {[}0; 4000{[}, {[}4000; 11000{[}, {[}11000; 12101{]}                                                                   \\\\\n",
       "\t13 & RBC(Red Blood Cells)          & 3816422:5018451 & {[}0; 3000000{[}, {[}3000000; 5000000{[},{[}5000000; 5018451{]}                                                        \\\\\n",
       "\t14 & HGB(Hemoglobin)               & 2:20            & If (Gender=={[}Male{]}):{[}2; 14{[}, {[}14; 17:5{]}, {]}17:5; 20{]}If(Gender=={[}Female{]}):{[}2; 12:3{[}, {[}12:3; 15:3{]}, {]}15:3; 20{]}\\\\\n",
       "\t15 & Plat(Platelet)                & 93013:226464    & {[}93013; 100000{[}, {[}100000; 255000{[},{[}255000; 226465{[}                                                         \\\\\n",
       "\t16 & AST1(1 week)                  & 0.088888889     & {[}0; 20{[}, {[}20; 40{]}, {]}40; 128{]}                                                                               \\\\\n",
       "\t17 & ALT1(1 week)                  & 0.088888889     & {[}0; 20{[}, {[}20; 40{]}, {]}40; 128{]}                                                                               \\\\\n",
       "\t18 & ALT4(4 weeks)                 & 0.088888889     & {[}0; 20{[}, {[}20; 40{]}, {]}40; 128{]}                                                                               \\\\\n",
       "\t19 & ALT12(12 weeks)               & 0.088888889     & {[}0; 20{[}, {[}20; 40{]}, {]}40; 128{]}                                                                               \\\\\n",
       "\t20 & ALT24(24 weeks)               & 0.088888889     & {[}0; 20{[}, {[}20; 40{]}, {]}40; 128{]}                                                                               \\\\\n",
       "\t21 & ALT36(36 weeks)               & 0.088888889     & {[}0; 20{[}, {[}20; 40{]}, {]}40; 128{]}                                                                               \\\\\n",
       "\t22 & ALT48(48 weeks)               & 0.088888889     & {[}0; 20{[}, {[}20; 40{]}, {]}40; 128{]}                                                                               \\\\\n",
       "\t23 & RNA Base                      & 0:1201086       & {[}0; 5{]}, {]}5; 1201086{]}                                                                                       \\\\\n",
       "\t24 & RNA 4                         & 0:1201715       & {[}0; 5{]}, {]}5; 1201715{]}                                                                                       \\\\\n",
       "\t25 & RNA 12                        & 0:3731527       & {[}0; 5{]}, {]}5; 3731527{]}                                                                                       \\\\\n",
       "\t26 & RNA EOT                       & 0:808450        & {[}0; 5{]}, {]}5; 808450{]}                                                                                        \\\\\n",
       "\t27 & RNA EF(Elongation Factor)     & 0:808450        & {[}0; 5{]}, {]}5; 808450{]}                                                                                        \\\\\n",
       "\t28 & Baseline Histological Grading & 1:16            & {[}1{]}; {[}2{]}; {[}3{]}; :::{[}16{]}                                                                                     \\\\\n",
       "\t29 & Baseline Histological         & F0:F4           & {[}No Fibrosis{]}, {[}Portal Fibrosis{]},Staging (Class Label) {[}Few Septa{]}, {[}Many Septa{]}, {[}Cirrhosis{]}              \\\\\n",
       "\\end{tabular}\n"
      ],
      "text/markdown": [
       "\n",
       "A data.frame: 29 × 3\n",
       "\n",
       "| <!--/--> | Feature Names &lt;chr&gt; | Feature Values &lt;chr&gt; | Discretization (Items) &lt;chr&gt; |\n",
       "|---|---|---|---|\n",
       "| 1 | Age                           | 32:61           | [0; 32], ]32; 37], ]37; 42],]42; 47], ]47; 52], ]52; 57],]57; 62]                                           |\n",
       "| 2 | Gender                        | Male,Female     | [Male], [Female]                                                                                            |\n",
       "| 3 | BMI(Body Mass Index)          | 22:35           | [0; 18:5[ [18:5; 25[, [25; 30[, [30; 35[, [35; 40[                                                          |\n",
       "| 4 | Fever                         | Absent, Present | [Absent], [Present] -                                                                                       |\n",
       "| 5 | Nausea/Vomiting               | Absent, Present | [Absent], [Present] -                                                                                       |\n",
       "| 6 | Headache                      | Absent, Present | [Absent], [Present] -                                                                                       |\n",
       "| 7 | Diarrhea                      | Absent, Present | [Absent], [Present] -                                                                                       |\n",
       "| 8 | Fatigue                       | Absent, Present | [Absent], [Present] -                                                                                       |\n",
       "| 9 | Bone ache                     | Absent, Present | [Absent], [Present] -                                                                                       |\n",
       "| 10 | Jaundice                      | Absent, Present | [Absent], [Present] -                                                                                       |\n",
       "| 11 | Epigastria pain               | Absent, Present | [Absent], [Present] -                                                                                       |\n",
       "| 12 | WBC(White Blood Cells)        | 2991:12101      | [0; 4000[, [4000; 11000[, [11000; 12101]                                                                    |\n",
       "| 13 | RBC(Red Blood Cells)          | 3816422:5018451 | [0; 3000000[, [3000000; 5000000[,[5000000; 5018451]                                                         |\n",
       "| 14 | HGB(Hemoglobin)               | 2:20            | If (Gender==[Male]):[2; 14[, [14; 17:5], ]17:5; 20]If(Gender==[Female]):[2; 12:3[, [12:3; 15:3], ]15:3; 20] |\n",
       "| 15 | Plat(Platelet)                | 93013:226464    | [93013; 100000[, [100000; 255000[,[255000; 226465[                                                          |\n",
       "| 16 | AST1(1 week)                  | 0.088888889     | [0; 20[, [20; 40], ]40; 128]                                                                                |\n",
       "| 17 | ALT1(1 week)                  | 0.088888889     | [0; 20[, [20; 40], ]40; 128]                                                                                |\n",
       "| 18 | ALT4(4 weeks)                 | 0.088888889     | [0; 20[, [20; 40], ]40; 128]                                                                                |\n",
       "| 19 | ALT12(12 weeks)               | 0.088888889     | [0; 20[, [20; 40], ]40; 128]                                                                                |\n",
       "| 20 | ALT24(24 weeks)               | 0.088888889     | [0; 20[, [20; 40], ]40; 128]                                                                                |\n",
       "| 21 | ALT36(36 weeks)               | 0.088888889     | [0; 20[, [20; 40], ]40; 128]                                                                                |\n",
       "| 22 | ALT48(48 weeks)               | 0.088888889     | [0; 20[, [20; 40], ]40; 128]                                                                                |\n",
       "| 23 | RNA Base                      | 0:1201086       | [0; 5], ]5; 1201086]                                                                                        |\n",
       "| 24 | RNA 4                         | 0:1201715       | [0; 5], ]5; 1201715]                                                                                        |\n",
       "| 25 | RNA 12                        | 0:3731527       | [0; 5], ]5; 3731527]                                                                                        |\n",
       "| 26 | RNA EOT                       | 0:808450        | [0; 5], ]5; 808450]                                                                                         |\n",
       "| 27 | RNA EF(Elongation Factor)     | 0:808450        | [0; 5], ]5; 808450]                                                                                         |\n",
       "| 28 | Baseline Histological Grading | 1:16            | [1]; [2]; [3]; :::[16]                                                                                      |\n",
       "| 29 | Baseline Histological         | F0:F4           | [No Fibrosis], [Portal Fibrosis],Staging (Class Label) [Few Septa], [Many Septa], [Cirrhosis]               |\n",
       "\n"
      ],
      "text/plain": [
       "   Feature Names                 Feature Values \n",
       "1  Age                           32:61          \n",
       "2  Gender                        Male,Female    \n",
       "3  BMI(Body Mass Index)          22:35          \n",
       "4  Fever                         Absent, Present\n",
       "5  Nausea/Vomiting               Absent, Present\n",
       "6  Headache                      Absent, Present\n",
       "7  Diarrhea                      Absent, Present\n",
       "8  Fatigue                       Absent, Present\n",
       "9  Bone ache                     Absent, Present\n",
       "10 Jaundice                      Absent, Present\n",
       "11 Epigastria pain               Absent, Present\n",
       "12 WBC(White Blood Cells)        2991:12101     \n",
       "13 RBC(Red Blood Cells)          3816422:5018451\n",
       "14 HGB(Hemoglobin)               2:20           \n",
       "15 Plat(Platelet)                93013:226464   \n",
       "16 AST1(1 week)                  0.088888889    \n",
       "17 ALT1(1 week)                  0.088888889    \n",
       "18 ALT4(4 weeks)                 0.088888889    \n",
       "19 ALT12(12 weeks)               0.088888889    \n",
       "20 ALT24(24 weeks)               0.088888889    \n",
       "21 ALT36(36 weeks)               0.088888889    \n",
       "22 ALT48(48 weeks)               0.088888889    \n",
       "23 RNA Base                      0:1201086      \n",
       "24 RNA 4                         0:1201715      \n",
       "25 RNA 12                        0:3731527      \n",
       "26 RNA EOT                       0:808450       \n",
       "27 RNA EF(Elongation Factor)     0:808450       \n",
       "28 Baseline Histological Grading 1:16           \n",
       "29 Baseline Histological         F0:F4          \n",
       "   Discretization (Items)                                                                                     \n",
       "1  [0; 32], ]32; 37], ]37; 42],]42; 47], ]47; 52], ]52; 57],]57; 62]                                          \n",
       "2  [Male], [Female]                                                                                           \n",
       "3  [0; 18:5[ [18:5; 25[, [25; 30[, [30; 35[, [35; 40[                                                         \n",
       "4  [Absent], [Present] -                                                                                      \n",
       "5  [Absent], [Present] -                                                                                      \n",
       "6  [Absent], [Present] -                                                                                      \n",
       "7  [Absent], [Present] -                                                                                      \n",
       "8  [Absent], [Present] -                                                                                      \n",
       "9  [Absent], [Present] -                                                                                      \n",
       "10 [Absent], [Present] -                                                                                      \n",
       "11 [Absent], [Present] -                                                                                      \n",
       "12 [0; 4000[, [4000; 11000[, [11000; 12101]                                                                   \n",
       "13 [0; 3000000[, [3000000; 5000000[,[5000000; 5018451]                                                        \n",
       "14 If (Gender==[Male]):[2; 14[, [14; 17:5], ]17:5; 20]If(Gender==[Female]):[2; 12:3[, [12:3; 15:3], ]15:3; 20]\n",
       "15 [93013; 100000[, [100000; 255000[,[255000; 226465[                                                         \n",
       "16 [0; 20[, [20; 40], ]40; 128]                                                                               \n",
       "17 [0; 20[, [20; 40], ]40; 128]                                                                               \n",
       "18 [0; 20[, [20; 40], ]40; 128]                                                                               \n",
       "19 [0; 20[, [20; 40], ]40; 128]                                                                               \n",
       "20 [0; 20[, [20; 40], ]40; 128]                                                                               \n",
       "21 [0; 20[, [20; 40], ]40; 128]                                                                               \n",
       "22 [0; 20[, [20; 40], ]40; 128]                                                                               \n",
       "23 [0; 5], ]5; 1201086]                                                                                       \n",
       "24 [0; 5], ]5; 1201715]                                                                                       \n",
       "25 [0; 5], ]5; 3731527]                                                                                       \n",
       "26 [0; 5], ]5; 808450]                                                                                        \n",
       "27 [0; 5], ]5; 808450]                                                                                        \n",
       "28 [1]; [2]; [3]; :::[16]                                                                                     \n",
       "29 [No Fibrosis], [Portal Fibrosis],Staging (Class Label) [Few Septa], [Many Septa], [Cirrhosis]              "
      ]
     },
     "metadata": {},
     "output_type": "display_data"
    }
   ],
   "source": [
    "df = import(\"../input/hepatitis-c-virus-hcv-for-egyptian-patients/HCV-Egy-Data.csv\")\n",
    "df_or = df\n",
    "df_disc = import(\"../input/hepatitis-c-virus-hcv-for-egyptian-patients/Discretization-Criteria.csv\")\n",
    "head(df_or)\n",
    "df_disc"
   ]
  },
  {
   "cell_type": "markdown",
   "metadata": {
    "_cell_guid": "ddbdb73b-4668-4268-8405-ecc2d445cfa8",
    "_uuid": "6e808a90-32a6-4ecc-b48b-bd0c934c411c"
   },
   "source": [
    "<hr>\n",
    "# Data Cleaning"
   ]
  },
  {
   "cell_type": "markdown",
   "metadata": {
    "_cell_guid": "53be7345-4be3-401a-a018-154c257a1d6b",
    "_uuid": "dac06528-49f9-4a30-80f5-54519c26a4e5"
   },
   "source": [
    "Discretised Data as per expert guided **discretization criteria** dataset"
   ]
  },
  {
   "cell_type": "code",
   "execution_count": 4,
   "metadata": {
    "_cell_guid": "0676fc95-0eb4-4bf9-8da1-1d16605cf571",
    "_uuid": "8f2c51ce-34ec-4e19-9580-bfcdda5c1600"
   },
   "outputs": [
    {
     "data": {
      "text/html": [
       "<table>\n",
       "<caption>A data.frame: 6 × 29</caption>\n",
       "<thead>\n",
       "\t<tr><th></th><th scope=col>Age</th><th scope=col>Gender</th><th scope=col>BMI</th><th scope=col>Fever</th><th scope=col>Nausea/Vomting</th><th scope=col>Headache</th><th scope=col>Diarrhea</th><th scope=col>Fatigue &amp; generalized bone ache</th><th scope=col>Jaundice</th><th scope=col>Epigastric pain</th><th scope=col>⋯</th><th scope=col>ALT 36</th><th scope=col>ALT 48</th><th scope=col>ALT after 24 w</th><th scope=col>RNA Base</th><th scope=col>RNA 4</th><th scope=col>RNA 12</th><th scope=col>RNA EOT</th><th scope=col>RNA EF</th><th scope=col>Baseline histological Grading</th><th scope=col>Baselinehistological staging</th></tr>\n",
       "\t<tr><th></th><th scope=col>&lt;fct&gt;</th><th scope=col>&lt;fct&gt;</th><th scope=col>&lt;fct&gt;</th><th scope=col>&lt;fct&gt;</th><th scope=col>&lt;fct&gt;</th><th scope=col>&lt;fct&gt;</th><th scope=col>&lt;fct&gt;</th><th scope=col>&lt;fct&gt;</th><th scope=col>&lt;fct&gt;</th><th scope=col>&lt;fct&gt;</th><th scope=col>⋯</th><th scope=col>&lt;fct&gt;</th><th scope=col>&lt;fct&gt;</th><th scope=col>&lt;fct&gt;</th><th scope=col>&lt;fct&gt;</th><th scope=col>&lt;fct&gt;</th><th scope=col>&lt;fct&gt;</th><th scope=col>&lt;fct&gt;</th><th scope=col>&lt;fct&gt;</th><th scope=col>&lt;fct&gt;</th><th scope=col>&lt;fct&gt;</th></tr>\n",
       "</thead>\n",
       "<tbody>\n",
       "\t<tr><th scope=row>1</th><td>(52,57]</td><td>Male  </td><td>[35,40]  </td><td>Present</td><td>Absent </td><td>Absent </td><td>Absent </td><td>Present</td><td>Present</td><td>Present</td><td>⋯</td><td>[0,20]  </td><td>[0,20]  </td><td>[0,20]  </td><td>(5,1.2e+06]</td><td>(5,1.2e+06]</td><td>(5,3.73e+06]</td><td>[0,5]       </td><td>[0,5]       </td><td>13</td><td>[Few Septa]      </td></tr>\n",
       "\t<tr><th scope=row>2</th><td>(42,47]</td><td>Male  </td><td>[25,30)  </td><td>Absent </td><td>Present</td><td>Present</td><td>Absent </td><td>Present</td><td>Present</td><td>Absent </td><td>⋯</td><td>(40,128]</td><td>(40,128]</td><td>(40,128]</td><td>(5,1.2e+06]</td><td>(5,1.2e+06]</td><td>(5,3.73e+06]</td><td>(5,8.08e+05]</td><td>(5,8.08e+05]</td><td>4 </td><td>[Few Septa]      </td></tr>\n",
       "\t<tr><th scope=row>3</th><td>(52,57]</td><td>Male  </td><td>[30,35)  </td><td>Present</td><td>Present</td><td>Present</td><td>Present</td><td>Absent </td><td>Absent </td><td>Absent </td><td>⋯</td><td>[0,20]  </td><td>[0,20]  </td><td>[0,20]  </td><td>(5,1.2e+06]</td><td>(5,1.2e+06]</td><td>[0,5]       </td><td>(5,8.08e+05]</td><td>(5,8.08e+05]</td><td>4 </td><td>[Cirrhosis]      </td></tr>\n",
       "\t<tr><th scope=row>4</th><td>(47,52]</td><td>Female</td><td>[30,35)  </td><td>Absent </td><td>Present</td><td>Absent </td><td>Present</td><td>Absent </td><td>Present</td><td>Absent </td><td>⋯</td><td>(40,128]</td><td>(40,128]</td><td>(20,40] </td><td>(5,1.2e+06]</td><td>(5,1.2e+06]</td><td>(5,3.73e+06]</td><td>(5,8.08e+05]</td><td>(5,8.08e+05]</td><td>10</td><td>[Many Septa]     </td></tr>\n",
       "\t<tr><th scope=row>5</th><td>(57,62]</td><td>Male  </td><td>[30,35)  </td><td>Absent </td><td>Absent </td><td>Present</td><td>Absent </td><td>Present</td><td>Present</td><td>Present</td><td>⋯</td><td>(40,128]</td><td>(40,128]</td><td>(20,40] </td><td>(5,1.2e+06]</td><td>(5,1.2e+06]</td><td>(5,3.73e+06]</td><td>(5,8.08e+05]</td><td>(5,8.08e+05]</td><td>11</td><td>[Portal Fibrosis]</td></tr>\n",
       "\t<tr><th scope=row>6</th><td>(57,62]</td><td>Female</td><td>[18.5,25)</td><td>Present</td><td>Present</td><td>Present</td><td>Absent </td><td>Present</td><td>Present</td><td>Absent </td><td>⋯</td><td>(40,128]</td><td>(40,128]</td><td>(20,40] </td><td>(5,1.2e+06]</td><td>(5,1.2e+06]</td><td>[0,5]       </td><td>[0,5]       </td><td>[0,5]       </td><td>4 </td><td>[Cirrhosis]      </td></tr>\n",
       "</tbody>\n",
       "</table>\n"
      ],
      "text/latex": [
       "A data.frame: 6 × 29\n",
       "\\begin{tabular}{r|lllllllllllllllllllll}\n",
       "  & Age & Gender & BMI & Fever & Nausea/Vomting & Headache & Diarrhea & Fatigue \\& generalized bone ache & Jaundice & Epigastric pain & ⋯ & ALT 36 & ALT 48 & ALT after 24 w & RNA Base & RNA 4 & RNA 12 & RNA EOT & RNA EF & Baseline histological Grading & Baselinehistological staging\\\\\n",
       "  & <fct> & <fct> & <fct> & <fct> & <fct> & <fct> & <fct> & <fct> & <fct> & <fct> & ⋯ & <fct> & <fct> & <fct> & <fct> & <fct> & <fct> & <fct> & <fct> & <fct> & <fct>\\\\\n",
       "\\hline\n",
       "\t1 & (52,57{]} & Male   & {[}35,40{]}   & Present & Absent  & Absent  & Absent  & Present & Present & Present & ⋯ & {[}0,20{]}   & {[}0,20{]}   & {[}0,20{]}   & (5,1.2e+06{]} & (5,1.2e+06{]} & (5,3.73e+06{]} & {[}0,5{]}        & {[}0,5{]}        & 13 & {[}Few Septa{]}      \\\\\n",
       "\t2 & (42,47{]} & Male   & {[}25,30)   & Absent  & Present & Present & Absent  & Present & Present & Absent  & ⋯ & (40,128{]} & (40,128{]} & (40,128{]} & (5,1.2e+06{]} & (5,1.2e+06{]} & (5,3.73e+06{]} & (5,8.08e+05{]} & (5,8.08e+05{]} & 4  & {[}Few Septa{]}      \\\\\n",
       "\t3 & (52,57{]} & Male   & {[}30,35)   & Present & Present & Present & Present & Absent  & Absent  & Absent  & ⋯ & {[}0,20{]}   & {[}0,20{]}   & {[}0,20{]}   & (5,1.2e+06{]} & (5,1.2e+06{]} & {[}0,5{]}        & (5,8.08e+05{]} & (5,8.08e+05{]} & 4  & {[}Cirrhosis{]}      \\\\\n",
       "\t4 & (47,52{]} & Female & {[}30,35)   & Absent  & Present & Absent  & Present & Absent  & Present & Absent  & ⋯ & (40,128{]} & (40,128{]} & (20,40{]}  & (5,1.2e+06{]} & (5,1.2e+06{]} & (5,3.73e+06{]} & (5,8.08e+05{]} & (5,8.08e+05{]} & 10 & {[}Many Septa{]}     \\\\\n",
       "\t5 & (57,62{]} & Male   & {[}30,35)   & Absent  & Absent  & Present & Absent  & Present & Present & Present & ⋯ & (40,128{]} & (40,128{]} & (20,40{]}  & (5,1.2e+06{]} & (5,1.2e+06{]} & (5,3.73e+06{]} & (5,8.08e+05{]} & (5,8.08e+05{]} & 11 & {[}Portal Fibrosis{]}\\\\\n",
       "\t6 & (57,62{]} & Female & {[}18.5,25) & Present & Present & Present & Absent  & Present & Present & Absent  & ⋯ & (40,128{]} & (40,128{]} & (20,40{]}  & (5,1.2e+06{]} & (5,1.2e+06{]} & {[}0,5{]}        & {[}0,5{]}        & {[}0,5{]}        & 4  & {[}Cirrhosis{]}      \\\\\n",
       "\\end{tabular}\n"
      ],
      "text/markdown": [
       "\n",
       "A data.frame: 6 × 29\n",
       "\n",
       "| <!--/--> | Age &lt;fct&gt; | Gender &lt;fct&gt; | BMI &lt;fct&gt; | Fever &lt;fct&gt; | Nausea/Vomting &lt;fct&gt; | Headache &lt;fct&gt; | Diarrhea &lt;fct&gt; | Fatigue &amp; generalized bone ache &lt;fct&gt; | Jaundice &lt;fct&gt; | Epigastric pain &lt;fct&gt; | ⋯ ⋯ | ALT 36 &lt;fct&gt; | ALT 48 &lt;fct&gt; | ALT after 24 w &lt;fct&gt; | RNA Base &lt;fct&gt; | RNA 4 &lt;fct&gt; | RNA 12 &lt;fct&gt; | RNA EOT &lt;fct&gt; | RNA EF &lt;fct&gt; | Baseline histological Grading &lt;fct&gt; | Baselinehistological staging &lt;fct&gt; |\n",
       "|---|---|---|---|---|---|---|---|---|---|---|---|---|---|---|---|---|---|---|---|---|---|\n",
       "| 1 | (52,57] | Male   | [35,40]   | Present | Absent  | Absent  | Absent  | Present | Present | Present | ⋯ | [0,20]   | [0,20]   | [0,20]   | (5,1.2e+06] | (5,1.2e+06] | (5,3.73e+06] | [0,5]        | [0,5]        | 13 | [Few Septa]       |\n",
       "| 2 | (42,47] | Male   | [25,30)   | Absent  | Present | Present | Absent  | Present | Present | Absent  | ⋯ | (40,128] | (40,128] | (40,128] | (5,1.2e+06] | (5,1.2e+06] | (5,3.73e+06] | (5,8.08e+05] | (5,8.08e+05] | 4  | [Few Septa]       |\n",
       "| 3 | (52,57] | Male   | [30,35)   | Present | Present | Present | Present | Absent  | Absent  | Absent  | ⋯ | [0,20]   | [0,20]   | [0,20]   | (5,1.2e+06] | (5,1.2e+06] | [0,5]        | (5,8.08e+05] | (5,8.08e+05] | 4  | [Cirrhosis]       |\n",
       "| 4 | (47,52] | Female | [30,35)   | Absent  | Present | Absent  | Present | Absent  | Present | Absent  | ⋯ | (40,128] | (40,128] | (20,40]  | (5,1.2e+06] | (5,1.2e+06] | (5,3.73e+06] | (5,8.08e+05] | (5,8.08e+05] | 10 | [Many Septa]      |\n",
       "| 5 | (57,62] | Male   | [30,35)   | Absent  | Absent  | Present | Absent  | Present | Present | Present | ⋯ | (40,128] | (40,128] | (20,40]  | (5,1.2e+06] | (5,1.2e+06] | (5,3.73e+06] | (5,8.08e+05] | (5,8.08e+05] | 11 | [Portal Fibrosis] |\n",
       "| 6 | (57,62] | Female | [18.5,25) | Present | Present | Present | Absent  | Present | Present | Absent  | ⋯ | (40,128] | (40,128] | (20,40]  | (5,1.2e+06] | (5,1.2e+06] | [0,5]        | [0,5]        | [0,5]        | 4  | [Cirrhosis]       |\n",
       "\n"
      ],
      "text/plain": [
       "  Age     Gender BMI       Fever   Nausea/Vomting Headache Diarrhea\n",
       "1 (52,57] Male   [35,40]   Present Absent         Absent   Absent  \n",
       "2 (42,47] Male   [25,30)   Absent  Present        Present  Absent  \n",
       "3 (52,57] Male   [30,35)   Present Present        Present  Present \n",
       "4 (47,52] Female [30,35)   Absent  Present        Absent   Present \n",
       "5 (57,62] Male   [30,35)   Absent  Absent         Present  Absent  \n",
       "6 (57,62] Female [18.5,25) Present Present        Present  Absent  \n",
       "  Fatigue & generalized bone ache Jaundice Epigastric pain ⋯ ALT 36   ALT 48  \n",
       "1 Present                         Present  Present         ⋯ [0,20]   [0,20]  \n",
       "2 Present                         Present  Absent          ⋯ (40,128] (40,128]\n",
       "3 Absent                          Absent   Absent          ⋯ [0,20]   [0,20]  \n",
       "4 Absent                          Present  Absent          ⋯ (40,128] (40,128]\n",
       "5 Present                         Present  Present         ⋯ (40,128] (40,128]\n",
       "6 Present                         Present  Absent          ⋯ (40,128] (40,128]\n",
       "  ALT after 24 w RNA Base    RNA 4       RNA 12       RNA EOT      RNA EF      \n",
       "1 [0,20]         (5,1.2e+06] (5,1.2e+06] (5,3.73e+06] [0,5]        [0,5]       \n",
       "2 (40,128]       (5,1.2e+06] (5,1.2e+06] (5,3.73e+06] (5,8.08e+05] (5,8.08e+05]\n",
       "3 [0,20]         (5,1.2e+06] (5,1.2e+06] [0,5]        (5,8.08e+05] (5,8.08e+05]\n",
       "4 (20,40]        (5,1.2e+06] (5,1.2e+06] (5,3.73e+06] (5,8.08e+05] (5,8.08e+05]\n",
       "5 (20,40]        (5,1.2e+06] (5,1.2e+06] (5,3.73e+06] (5,8.08e+05] (5,8.08e+05]\n",
       "6 (20,40]        (5,1.2e+06] (5,1.2e+06] [0,5]        [0,5]        [0,5]       \n",
       "  Baseline histological Grading Baselinehistological staging\n",
       "1 13                            [Few Septa]                 \n",
       "2 4                             [Few Septa]                 \n",
       "3 4                             [Cirrhosis]                 \n",
       "4 10                            [Many Septa]                \n",
       "5 11                            [Portal Fibrosis]           \n",
       "6 4                             [Cirrhosis]                 "
      ]
     },
     "metadata": {},
     "output_type": "display_data"
    }
   ],
   "source": [
    "df$Age <- cut(df$Age, breaks=c(0, 32, 37, 42, 47, 52, 57, 62), include.lowest=TRUE)\n",
    "df$Gender <- factor(df$Gender, labels=c(\"Male\", \"Female\"))\n",
    "df$BMI <- cut(df$BMI, breaks=c(0, 18.5, 25, 30, 35, 40), include.lowest=TRUE, right=FALSE)\n",
    "\n",
    "for (x in colnames(df[4:10])){\n",
    "    df[[x]] <- factor(df[[x]], levels=c(1, 2), labels=c(\"Absent\", \"Present\"))\n",
    "}\n",
    "\n",
    "df$WBC <- cut(df$WBC, breaks=c(0, 4000, 11000, 12101), include.lowest=TRUE, right=FALSE)\n",
    "df$RBC <- cut(df$RBC, breaks=c(0, 3000000, 5000000, 5018451), include.lowest=TRUE, right=FALSE)\n",
    "\n",
    "hgb_v <- vector()\n",
    "for(x in (1:1385)){\n",
    "    if(df[x,]$Gender == \"Male\"){\n",
    "        if(df[x,]$HGB >= 2 & df[x,]$HGB < 14){ hgb_v[x] = as.character(\"[2,14)\")}\n",
    "        else if(df[x,]$HGB >= 14 & df[x,]$HGB <= 17.5){ hgb_v[x] = as.character(\"[14,17.5]\")}\n",
    "        else{ df[x,]$HGB = as.character(\"(17.5,20]\")}\n",
    "    } else {\n",
    "        if(df[x,]$HGB >= 2 & df[x,]$HGB < 12.3){ hgb_v[x] = as.character(\"[2,12.3)\")}\n",
    "        else if(df[x,]$HGB >= 12.3 & df[x,]$HGB <= 15.3){ hgb_v[x] = as.character(\"[12.3, 15.3]\")}\n",
    "        else{ df[x,]$HGB = as.character(\"(15.3, 20]\")}\n",
    "    }\n",
    "}\n",
    "df$HGB <- factor(hgb_v)\n",
    "\n",
    "df$Plat <- cut(df$Plat, breaks=c(93013, 100000, 255000, 226465), include.lowest=TRUE, right=FALSE)\n",
    "\n",
    "for (x in colnames(df[15:22])){\n",
    "    df[[x]] <- cut(df[[x]], breaks=c(0, 20, 40, 128), include.lowest=TRUE, right=TRUE)\n",
    "}\n",
    "\n",
    "df[\"RNA Base\"] <- cut(df[[\"RNA Base\"]], breaks=c(0, 5, 1201086), include.lowest=TRUE, right=TRUE)\n",
    "df[\"RNA 4\"] <- cut(df[[\"RNA 4\"]], breaks=c(0, 5, 1201715), include.lowest=TRUE, right=TRUE)\n",
    "df[\"RNA 12\"] <- cut(df[[\"RNA 12\"]], breaks=c(0, 5, 3731527), include.lowest=TRUE, right=TRUE)\n",
    "df[\"RNA EOT\"] <- cut(df[[\"RNA EOT\"]], breaks=c(0, 5, 808450), include.lowest=TRUE, right=TRUE)\n",
    "df[\"RNA EF\"] <- cut(df[[\"RNA EF\"]], breaks=c(0, 5, 808450), include.lowest=TRUE, right=TRUE)\n",
    "df[[\"Baseline histological Grading\"]] <- as.factor(df[[\"Baseline histological Grading\"]])\n",
    "df[[\"Baselinehistological staging\"]] <- factor(df[[\"Baselinehistological staging\"]], levels=c(0, 1, 2, 3, 4), labels=c(\"[No Fibrosis]\", \"[Portal Fibrosis]\", \"[Few Septa]\", \"[Many Septa]\", \"[Cirrhosis]\"))\n",
    "head(df)"
   ]
  },
  {
   "cell_type": "code",
   "execution_count": 5,
   "metadata": {
    "_cell_guid": "c26d02fa-24d2-4704-a5d0-f60016a3827c",
    "_uuid": "7b5c7801-f8b0-437c-8f2e-fdbba451dc6f"
   },
   "outputs": [],
   "source": [
    "#export(df, \"HCV-Discretised.csv\")"
   ]
  },
  {
   "cell_type": "markdown",
   "metadata": {},
   "source": [
    "<hr>\n",
    "# Exploration"
   ]
  },
  {
   "cell_type": "code",
   "execution_count": 6,
   "metadata": {},
   "outputs": [
    {
     "data": {
      "text/plain": [
       "      Age         Gender           BMI          Fever     Nausea/Vomting\n",
       " [0,32] : 50   Male  :707   [0,18.5) :  0   Absent :671   Absent :689   \n",
       " (32,37]:245   Female:678   [18.5,25):305   Present:714   Present:696   \n",
       " (37,42]:227                [25,30)  :469                               \n",
       " (42,47]:228                [30,35)  :511                               \n",
       " (47,52]:212                [35,40]  :100                               \n",
       " (52,57]:243                                                            \n",
       " (57,62]:180                                                            \n",
       "    Headache      Diarrhea   Fatigue & generalized bone ache    Jaundice  \n",
       " Absent :698   Absent :689   Absent :694                     Absent :691  \n",
       " Present:687   Present:696   Present:691                     Present:694  \n",
       "                                                                          \n",
       "                                                                          \n",
       "                                                                          \n",
       "                                                                          \n",
       "                                                                          \n",
       " Epigastric pain                 WBC                     RBC      \n",
       " Absent :687     [0,4e+03)         : 153   [0,3e+06)       :   0  \n",
       " Present:698     [4e+03,1.1e+04)   :1056   [3e+06,5e+06)   :1357  \n",
       "                 [1.1e+04,1.21e+04]: 176   [5e+06,5.02e+06]:  28  \n",
       "                                                                  \n",
       "                                                                  \n",
       "                                                                  \n",
       "                                                                  \n",
       "           HGB                       Plat           AST 1           ALT 1     \n",
       " [12.3, 15.3]:351   [9.3e+04,1e+05)    :  78   [0,20]  :   0   [0,20]  :   0  \n",
       " [14,17.5]   :250   [1e+05,2.26e+05)   :1307   (20,40] :  32   (20,40] :  32  \n",
       " [2,12.3)    :327   [2.26e+05,2.55e+05]:   0   (40,128]:1353   (40,128]:1353  \n",
       " [2,14)      :457                                                             \n",
       "                                                                              \n",
       "                                                                              \n",
       "                                                                              \n",
       "       ALT4           ALT 12          ALT 24          ALT 36    \n",
       " [0,20]  :   0   [0,20]  :   0   [0,20]  :   0   [0,20]  :   3  \n",
       " (20,40] :  32   (20,40] :  34   (20,40] :  33   (20,40] :  35  \n",
       " (40,128]:1353   (40,128]:1351   (40,128]:1352   (40,128]:1347  \n",
       "                                                                \n",
       "                                                                \n",
       "                                                                \n",
       "                                                                \n",
       "      ALT 48      ALT after 24 w        RNA Base            RNA 4     \n",
       " [0,20]  :   3   [0,20]  :   3   [0,5]      :   0   [0,5]      :   1  \n",
       " (20,40] :  26   (20,40] :1088   (5,1.2e+06]:1385   (5,1.2e+06]:1384  \n",
       " (40,128]:1356   (40,128]: 294                                        \n",
       "                                                                      \n",
       "                                                                      \n",
       "                                                                      \n",
       "                                                                      \n",
       "          RNA 12             RNA EOT              RNA EF    \n",
       " [0,5]       : 385   [0,5]       : 384   [0,5]       : 382  \n",
       " (5,3.73e+06]:1000   (5,8.08e+05]:1001   (5,8.08e+05]:1000  \n",
       "                                         NA's        :   3  \n",
       "                                                            \n",
       "                                                            \n",
       "                                                            \n",
       "                                                            \n",
       " Baseline histological Grading    Baselinehistological staging\n",
       " 15     :139                   [No Fibrosis]    :  0          \n",
       " 11     :121                   [Portal Fibrosis]:336          \n",
       " 14     :106                   [Few Septa]      :332          \n",
       " 9      :103                   [Many Septa]     :355          \n",
       " 6      :102                   [Cirrhosis]      :362          \n",
       " 12     :101                                                  \n",
       " (Other):713                                                  "
      ]
     },
     "metadata": {},
     "output_type": "display_data"
    }
   ],
   "source": [
    "summary(df)"
   ]
  },
  {
   "cell_type": "code",
   "execution_count": 7,
   "metadata": {},
   "outputs": [
    {
     "data": {
      "text/plain": [
       "      Age            Gender          BMI            Fever       Nausea/Vomting \n",
       " Min.   :32.00   Min.   :1.00   Min.   :22.00   Min.   :1.000   Min.   :1.000  \n",
       " 1st Qu.:39.00   1st Qu.:1.00   1st Qu.:25.00   1st Qu.:1.000   1st Qu.:1.000  \n",
       " Median :46.00   Median :1.00   Median :29.00   Median :2.000   Median :2.000  \n",
       " Mean   :46.32   Mean   :1.49   Mean   :28.61   Mean   :1.516   Mean   :1.503  \n",
       " 3rd Qu.:54.00   3rd Qu.:2.00   3rd Qu.:32.00   3rd Qu.:2.000   3rd Qu.:2.000  \n",
       " Max.   :61.00   Max.   :2.00   Max.   :35.00   Max.   :2.000   Max.   :2.000  \n",
       "    Headache        Diarrhea     Fatigue & generalized bone ache\n",
       " Min.   :1.000   Min.   :1.000   Min.   :1.000                  \n",
       " 1st Qu.:1.000   1st Qu.:1.000   1st Qu.:1.000                  \n",
       " Median :1.000   Median :2.000   Median :1.000                  \n",
       " Mean   :1.496   Mean   :1.503   Mean   :1.499                  \n",
       " 3rd Qu.:2.000   3rd Qu.:2.000   3rd Qu.:2.000                  \n",
       " Max.   :2.000   Max.   :2.000   Max.   :2.000                  \n",
       "    Jaundice     Epigastric pain      WBC             RBC         \n",
       " Min.   :1.000   Min.   :1.000   Min.   : 2991   Min.   :3816422  \n",
       " 1st Qu.:1.000   1st Qu.:1.000   1st Qu.: 5219   1st Qu.:4121374  \n",
       " Median :2.000   Median :2.000   Median : 7498   Median :4438465  \n",
       " Mean   :1.501   Mean   :1.504   Mean   : 7533   Mean   :4422130  \n",
       " 3rd Qu.:2.000   3rd Qu.:2.000   3rd Qu.: 9902   3rd Qu.:4721279  \n",
       " Max.   :2.000   Max.   :2.000   Max.   :12101   Max.   :5018451  \n",
       "      HGB             Plat            AST 1            ALT 1       \n",
       " Min.   :10.00   Min.   : 93013   Min.   : 39.00   Min.   : 39.00  \n",
       " 1st Qu.:11.00   1st Qu.:124479   1st Qu.: 60.00   1st Qu.: 62.00  \n",
       " Median :13.00   Median :157916   Median : 83.00   Median : 83.00  \n",
       " Mean   :12.59   Mean   :158348   Mean   : 82.77   Mean   : 83.92  \n",
       " 3rd Qu.:14.00   3rd Qu.:190314   3rd Qu.:105.00   3rd Qu.:106.00  \n",
       " Max.   :15.00   Max.   :226464   Max.   :128.00   Max.   :128.00  \n",
       "      ALT4            ALT 12           ALT 24           ALT 36      \n",
       " Min.   : 39.00   Min.   : 39.00   Min.   : 39.00   Min.   :  5.00  \n",
       " 1st Qu.: 61.00   1st Qu.: 60.00   1st Qu.: 61.00   1st Qu.: 61.00  \n",
       " Median : 82.00   Median : 84.00   Median : 83.00   Median : 84.00  \n",
       " Mean   : 83.41   Mean   : 83.51   Mean   : 83.71   Mean   : 83.12  \n",
       " 3rd Qu.:107.00   3rd Qu.:106.00   3rd Qu.:107.00   3rd Qu.:106.00  \n",
       " Max.   :128.00   Max.   :128.00   Max.   :128.00   Max.   :128.00  \n",
       "     ALT 48       ALT after 24 w     RNA Base           RNA 4        \n",
       " Min.   :  5.00   Min.   : 5.00   Min.   :     11   Min.   :      5  \n",
       " 1st Qu.: 61.00   1st Qu.:28.00   1st Qu.: 269253   1st Qu.: 270893  \n",
       " Median : 83.00   Median :34.00   Median : 593103   Median : 597869  \n",
       " Mean   : 83.63   Mean   :33.44   Mean   : 590951   Mean   : 600896  \n",
       " 3rd Qu.:106.00   3rd Qu.:40.00   3rd Qu.: 886791   3rd Qu.: 909093  \n",
       " Max.   :128.00   Max.   :45.00   Max.   :1201086   Max.   :1201715  \n",
       "     RNA 12           RNA EOT           RNA EF      \n",
       " Min.   :      5   Min.   :     5   Min.   :     5  \n",
       " 1st Qu.:      5   1st Qu.:     5   1st Qu.:     5  \n",
       " Median : 234359   Median :251376   Median :244049  \n",
       " Mean   : 288754   Mean   :287660   Mean   :291378  \n",
       " 3rd Qu.: 524819   3rd Qu.:517806   3rd Qu.:527864  \n",
       " Max.   :3731527   Max.   :808450   Max.   :810333  \n",
       " Baseline histological Grading Baselinehistological staging\n",
       " Min.   : 3.000                Min.   :1.000               \n",
       " 1st Qu.: 6.000                1st Qu.:2.000               \n",
       " Median :10.000                Median :3.000               \n",
       " Mean   : 9.762                Mean   :2.536               \n",
       " 3rd Qu.:13.000                3rd Qu.:4.000               \n",
       " Max.   :16.000                Max.   :4.000               "
      ]
     },
     "metadata": {},
     "output_type": "display_data"
    }
   ],
   "source": [
    "summary(df_or)"
   ]
  },
  {
   "cell_type": "markdown",
   "metadata": {},
   "source": [
    "<hr>\n",
    "<h2>Analyzing ALT Levels</h2>\n",
    "Analyzing effect on ALT Levels across various Demograhics for different time periods"
   ]
  },
  {
   "cell_type": "code",
   "execution_count": 8,
   "metadata": {},
   "outputs": [
    {
     "data": {
      "text/html": [
       "<table>\n",
       "<caption>A data.frame: 6 × 29</caption>\n",
       "<thead>\n",
       "\t<tr><th></th><th scope=col>Age</th><th scope=col>Gender</th><th scope=col>BMI</th><th scope=col>Fever</th><th scope=col>Nausea/Vomting</th><th scope=col>Headache</th><th scope=col>Diarrhea</th><th scope=col>Fatigue &amp; generalized bone ache</th><th scope=col>Jaundice</th><th scope=col>Epigastric pain</th><th scope=col>⋯</th><th scope=col>ALT 36</th><th scope=col>ALT 48</th><th scope=col>ALT after 24 w</th><th scope=col>RNA Base</th><th scope=col>RNA 4</th><th scope=col>RNA 12</th><th scope=col>RNA EOT</th><th scope=col>RNA EF</th><th scope=col>BaselineHistologicalGrading</th><th scope=col>BaselineHistologicalStaging</th></tr>\n",
       "\t<tr><th></th><th scope=col>&lt;fct&gt;</th><th scope=col>&lt;fct&gt;</th><th scope=col>&lt;fct&gt;</th><th scope=col>&lt;fct&gt;</th><th scope=col>&lt;fct&gt;</th><th scope=col>&lt;fct&gt;</th><th scope=col>&lt;fct&gt;</th><th scope=col>&lt;fct&gt;</th><th scope=col>&lt;fct&gt;</th><th scope=col>&lt;fct&gt;</th><th scope=col>⋯</th><th scope=col>&lt;int&gt;</th><th scope=col>&lt;int&gt;</th><th scope=col>&lt;int&gt;</th><th scope=col>&lt;int&gt;</th><th scope=col>&lt;int&gt;</th><th scope=col>&lt;int&gt;</th><th scope=col>&lt;int&gt;</th><th scope=col>&lt;int&gt;</th><th scope=col>&lt;fct&gt;</th><th scope=col>&lt;fct&gt;</th></tr>\n",
       "</thead>\n",
       "<tbody>\n",
       "\t<tr><th scope=row>1</th><td>(52,57]</td><td>Male  </td><td>[35,40]  </td><td>Present</td><td>Absent </td><td>Absent </td><td>Absent </td><td>Present</td><td>Present</td><td>Present</td><td>⋯</td><td> 5</td><td>  5</td><td> 5</td><td> 655330</td><td> 634536</td><td> 288194</td><td>     5</td><td>     5</td><td>13</td><td>[Few Septa]      </td></tr>\n",
       "\t<tr><th scope=row>2</th><td>(42,47]</td><td>Male  </td><td>[25,30)  </td><td>Absent </td><td>Present</td><td>Present</td><td>Absent </td><td>Present</td><td>Present</td><td>Absent </td><td>⋯</td><td>57</td><td>123</td><td>44</td><td>  40620</td><td> 538635</td><td> 637056</td><td>336804</td><td> 31085</td><td>4 </td><td>[Few Septa]      </td></tr>\n",
       "\t<tr><th scope=row>3</th><td>(52,57]</td><td>Male  </td><td>[30,35)  </td><td>Present</td><td>Present</td><td>Present</td><td>Present</td><td>Absent </td><td>Absent </td><td>Absent </td><td>⋯</td><td> 5</td><td>  5</td><td> 5</td><td> 571148</td><td> 661346</td><td>      5</td><td>735945</td><td>558829</td><td>4 </td><td>[Cirrhosis]      </td></tr>\n",
       "\t<tr><th scope=row>4</th><td>(47,52]</td><td>Female</td><td>[30,35)  </td><td>Absent </td><td>Present</td><td>Absent </td><td>Present</td><td>Absent </td><td>Present</td><td>Absent </td><td>⋯</td><td>48</td><td> 77</td><td>33</td><td>1041941</td><td> 449939</td><td> 585688</td><td>744463</td><td>582301</td><td>10</td><td>[Many Septa]     </td></tr>\n",
       "\t<tr><th scope=row>5</th><td>(57,62]</td><td>Male  </td><td>[30,35)  </td><td>Absent </td><td>Absent </td><td>Present</td><td>Absent </td><td>Present</td><td>Present</td><td>Present</td><td>⋯</td><td>94</td><td> 90</td><td>30</td><td> 660410</td><td> 738756</td><td>3731527</td><td>338946</td><td>242861</td><td>11</td><td>[Portal Fibrosis]</td></tr>\n",
       "\t<tr><th scope=row>6</th><td>(57,62]</td><td>Female</td><td>[18.5,25)</td><td>Present</td><td>Present</td><td>Present</td><td>Absent </td><td>Present</td><td>Present</td><td>Absent </td><td>⋯</td><td>73</td><td>114</td><td>29</td><td>1157452</td><td>1086852</td><td>      5</td><td>     5</td><td>     5</td><td>4 </td><td>[Cirrhosis]      </td></tr>\n",
       "</tbody>\n",
       "</table>\n"
      ],
      "text/latex": [
       "A data.frame: 6 × 29\n",
       "\\begin{tabular}{r|lllllllllllllllllllll}\n",
       "  & Age & Gender & BMI & Fever & Nausea/Vomting & Headache & Diarrhea & Fatigue \\& generalized bone ache & Jaundice & Epigastric pain & ⋯ & ALT 36 & ALT 48 & ALT after 24 w & RNA Base & RNA 4 & RNA 12 & RNA EOT & RNA EF & BaselineHistologicalGrading & BaselineHistologicalStaging\\\\\n",
       "  & <fct> & <fct> & <fct> & <fct> & <fct> & <fct> & <fct> & <fct> & <fct> & <fct> & ⋯ & <int> & <int> & <int> & <int> & <int> & <int> & <int> & <int> & <fct> & <fct>\\\\\n",
       "\\hline\n",
       "\t1 & (52,57{]} & Male   & {[}35,40{]}   & Present & Absent  & Absent  & Absent  & Present & Present & Present & ⋯ &  5 &   5 &  5 &  655330 &  634536 &  288194 &      5 &      5 & 13 & {[}Few Septa{]}      \\\\\n",
       "\t2 & (42,47{]} & Male   & {[}25,30)   & Absent  & Present & Present & Absent  & Present & Present & Absent  & ⋯ & 57 & 123 & 44 &   40620 &  538635 &  637056 & 336804 &  31085 & 4  & {[}Few Septa{]}      \\\\\n",
       "\t3 & (52,57{]} & Male   & {[}30,35)   & Present & Present & Present & Present & Absent  & Absent  & Absent  & ⋯ &  5 &   5 &  5 &  571148 &  661346 &       5 & 735945 & 558829 & 4  & {[}Cirrhosis{]}      \\\\\n",
       "\t4 & (47,52{]} & Female & {[}30,35)   & Absent  & Present & Absent  & Present & Absent  & Present & Absent  & ⋯ & 48 &  77 & 33 & 1041941 &  449939 &  585688 & 744463 & 582301 & 10 & {[}Many Septa{]}     \\\\\n",
       "\t5 & (57,62{]} & Male   & {[}30,35)   & Absent  & Absent  & Present & Absent  & Present & Present & Present & ⋯ & 94 &  90 & 30 &  660410 &  738756 & 3731527 & 338946 & 242861 & 11 & {[}Portal Fibrosis{]}\\\\\n",
       "\t6 & (57,62{]} & Female & {[}18.5,25) & Present & Present & Present & Absent  & Present & Present & Absent  & ⋯ & 73 & 114 & 29 & 1157452 & 1086852 &       5 &      5 &      5 & 4  & {[}Cirrhosis{]}      \\\\\n",
       "\\end{tabular}\n"
      ],
      "text/markdown": [
       "\n",
       "A data.frame: 6 × 29\n",
       "\n",
       "| <!--/--> | Age &lt;fct&gt; | Gender &lt;fct&gt; | BMI &lt;fct&gt; | Fever &lt;fct&gt; | Nausea/Vomting &lt;fct&gt; | Headache &lt;fct&gt; | Diarrhea &lt;fct&gt; | Fatigue &amp; generalized bone ache &lt;fct&gt; | Jaundice &lt;fct&gt; | Epigastric pain &lt;fct&gt; | ⋯ ⋯ | ALT 36 &lt;int&gt; | ALT 48 &lt;int&gt; | ALT after 24 w &lt;int&gt; | RNA Base &lt;int&gt; | RNA 4 &lt;int&gt; | RNA 12 &lt;int&gt; | RNA EOT &lt;int&gt; | RNA EF &lt;int&gt; | BaselineHistologicalGrading &lt;fct&gt; | BaselineHistologicalStaging &lt;fct&gt; |\n",
       "|---|---|---|---|---|---|---|---|---|---|---|---|---|---|---|---|---|---|---|---|---|---|\n",
       "| 1 | (52,57] | Male   | [35,40]   | Present | Absent  | Absent  | Absent  | Present | Present | Present | ⋯ |  5 |   5 |  5 |  655330 |  634536 |  288194 |      5 |      5 | 13 | [Few Septa]       |\n",
       "| 2 | (42,47] | Male   | [25,30)   | Absent  | Present | Present | Absent  | Present | Present | Absent  | ⋯ | 57 | 123 | 44 |   40620 |  538635 |  637056 | 336804 |  31085 | 4  | [Few Septa]       |\n",
       "| 3 | (52,57] | Male   | [30,35)   | Present | Present | Present | Present | Absent  | Absent  | Absent  | ⋯ |  5 |   5 |  5 |  571148 |  661346 |       5 | 735945 | 558829 | 4  | [Cirrhosis]       |\n",
       "| 4 | (47,52] | Female | [30,35)   | Absent  | Present | Absent  | Present | Absent  | Present | Absent  | ⋯ | 48 |  77 | 33 | 1041941 |  449939 |  585688 | 744463 | 582301 | 10 | [Many Septa]      |\n",
       "| 5 | (57,62] | Male   | [30,35)   | Absent  | Absent  | Present | Absent  | Present | Present | Present | ⋯ | 94 |  90 | 30 |  660410 |  738756 | 3731527 | 338946 | 242861 | 11 | [Portal Fibrosis] |\n",
       "| 6 | (57,62] | Female | [18.5,25) | Present | Present | Present | Absent  | Present | Present | Absent  | ⋯ | 73 | 114 | 29 | 1157452 | 1086852 |       5 |      5 |      5 | 4  | [Cirrhosis]       |\n",
       "\n"
      ],
      "text/plain": [
       "  Age     Gender BMI       Fever   Nausea/Vomting Headache Diarrhea\n",
       "1 (52,57] Male   [35,40]   Present Absent         Absent   Absent  \n",
       "2 (42,47] Male   [25,30)   Absent  Present        Present  Absent  \n",
       "3 (52,57] Male   [30,35)   Present Present        Present  Present \n",
       "4 (47,52] Female [30,35)   Absent  Present        Absent   Present \n",
       "5 (57,62] Male   [30,35)   Absent  Absent         Present  Absent  \n",
       "6 (57,62] Female [18.5,25) Present Present        Present  Absent  \n",
       "  Fatigue & generalized bone ache Jaundice Epigastric pain ⋯ ALT 36 ALT 48\n",
       "1 Present                         Present  Present         ⋯  5       5   \n",
       "2 Present                         Present  Absent          ⋯ 57     123   \n",
       "3 Absent                          Absent   Absent          ⋯  5       5   \n",
       "4 Absent                          Present  Absent          ⋯ 48      77   \n",
       "5 Present                         Present  Present         ⋯ 94      90   \n",
       "6 Present                         Present  Absent          ⋯ 73     114   \n",
       "  ALT after 24 w RNA Base RNA 4   RNA 12  RNA EOT RNA EF\n",
       "1  5              655330   634536  288194      5       5\n",
       "2 44               40620   538635  637056 336804   31085\n",
       "3  5              571148   661346       5 735945  558829\n",
       "4 33             1041941   449939  585688 744463  582301\n",
       "5 30              660410   738756 3731527 338946  242861\n",
       "6 29             1157452  1086852       5      5       5\n",
       "  BaselineHistologicalGrading BaselineHistologicalStaging\n",
       "1 13                          [Few Septa]                \n",
       "2 4                           [Few Septa]                \n",
       "3 4                           [Cirrhosis]                \n",
       "4 10                          [Many Septa]               \n",
       "5 11                          [Portal Fibrosis]          \n",
       "6 4                           [Cirrhosis]                "
      ]
     },
     "metadata": {},
     "output_type": "display_data"
    }
   ],
   "source": [
    "data_ex <- df[1:10]\n",
    "for (x in (11:27)) {\n",
    "    data_ex[colnames(df_or)[x]] <- df_or[colnames(df_or)[x]]\n",
    "}\n",
    "data_ex[\"BaselineHistologicalGrading\"] <- df[\"Baseline histological Grading\"]\n",
    "data_ex[\"BaselineHistologicalStaging\"] <- df[\"Baselinehistological staging\"]\n",
    "head(data_ex)"
   ]
  },
  {
   "cell_type": "code",
   "execution_count": 9,
   "metadata": {},
   "outputs": [
    {
     "data": {
      "text/html": [
       "<table>\n",
       "<caption>A data.frame: 7 × 3</caption>\n",
       "<thead>\n",
       "\t<tr><th scope=col>time</th><th scope=col>MaleMeanALT</th><th scope=col>FemaleMeanALT</th></tr>\n",
       "\t<tr><th scope=col>&lt;fct&gt;</th><th scope=col>&lt;dbl&gt;</th><th scope=col>&lt;dbl&gt;</th></tr>\n",
       "</thead>\n",
       "<tbody>\n",
       "\t<tr><td>1             </td><td>83.34653</td><td>84.51032</td></tr>\n",
       "\t<tr><td>4             </td><td>83.63225</td><td>83.16962</td></tr>\n",
       "\t<tr><td>12            </td><td>83.25601</td><td>83.77581</td></tr>\n",
       "\t<tr><td>24            </td><td>84.11740</td><td>83.28319</td></tr>\n",
       "\t<tr><td>36            </td><td>82.96040</td><td>83.28171</td></tr>\n",
       "\t<tr><td>48            </td><td>84.15134</td><td>83.08555</td></tr>\n",
       "\t<tr><td>After 24 Weeks</td><td>33.36775</td><td>33.51180</td></tr>\n",
       "</tbody>\n",
       "</table>\n"
      ],
      "text/latex": [
       "A data.frame: 7 × 3\n",
       "\\begin{tabular}{lll}\n",
       " time & MaleMeanALT & FemaleMeanALT\\\\\n",
       " <fct> & <dbl> & <dbl>\\\\\n",
       "\\hline\n",
       "\t 1              & 83.34653 & 84.51032\\\\\n",
       "\t 4              & 83.63225 & 83.16962\\\\\n",
       "\t 12             & 83.25601 & 83.77581\\\\\n",
       "\t 24             & 84.11740 & 83.28319\\\\\n",
       "\t 36             & 82.96040 & 83.28171\\\\\n",
       "\t 48             & 84.15134 & 83.08555\\\\\n",
       "\t After 24 Weeks & 33.36775 & 33.51180\\\\\n",
       "\\end{tabular}\n"
      ],
      "text/markdown": [
       "\n",
       "A data.frame: 7 × 3\n",
       "\n",
       "| time &lt;fct&gt; | MaleMeanALT &lt;dbl&gt; | FemaleMeanALT &lt;dbl&gt; |\n",
       "|---|---|---|\n",
       "| 1              | 83.34653 | 84.51032 |\n",
       "| 4              | 83.63225 | 83.16962 |\n",
       "| 12             | 83.25601 | 83.77581 |\n",
       "| 24             | 84.11740 | 83.28319 |\n",
       "| 36             | 82.96040 | 83.28171 |\n",
       "| 48             | 84.15134 | 83.08555 |\n",
       "| After 24 Weeks | 33.36775 | 33.51180 |\n",
       "\n"
      ],
      "text/plain": [
       "  time           MaleMeanALT FemaleMeanALT\n",
       "1 1              83.34653    84.51032     \n",
       "2 4              83.63225    83.16962     \n",
       "3 12             83.25601    83.77581     \n",
       "4 24             84.11740    83.28319     \n",
       "5 36             82.96040    83.28171     \n",
       "6 48             84.15134    83.08555     \n",
       "7 After 24 Weeks 33.36775    33.51180     "
      ]
     },
     "metadata": {},
     "output_type": "display_data"
    }
   ],
   "source": [
    "# Constructing Dataframe for plotting ALT Levels across Gender groups\n",
    "male_mean <- vector()\n",
    "female_mean <- vector()\n",
    "for (x in (16:22)){\n",
    "    male_mean[x-15] <- mean(data_ex[which(data_ex$Gender == \"Male\"),x])\n",
    "    female_mean[x-15] <- mean(data_ex[which(data_ex$Gender == \"Female\"),x])\n",
    "}\n",
    "\n",
    "gndr_alt <- data.frame(time=c(\"1\", \"4\", \"12\", \"24\", \"36\", \"48\", \"After 24 Weeks\"))\n",
    "gndr_alt$MaleMeanALT<- male_mean\n",
    "gndr_alt$FemaleMeanALT <- female_mean\n",
    "\n",
    "gndr_alt"
   ]
  },
  {
   "cell_type": "code",
   "execution_count": 10,
   "metadata": {},
   "outputs": [
    {
     "data": {
      "text/html": [
       "<table>\n",
       "<caption>A data.frame: 7 × 8</caption>\n",
       "<thead>\n",
       "\t<tr><th scope=col>time</th><th scope=col>[0, 32]</th><th scope=col>(32, 37]</th><th scope=col>(37, 42]</th><th scope=col>(42, 47]</th><th scope=col>(47, 52]</th><th scope=col>(52, 57]</th><th scope=col>(57, 62]</th></tr>\n",
       "\t<tr><th scope=col>&lt;fct&gt;</th><th scope=col>&lt;dbl&gt;</th><th scope=col>&lt;dbl&gt;</th><th scope=col>&lt;dbl&gt;</th><th scope=col>&lt;dbl&gt;</th><th scope=col>&lt;dbl&gt;</th><th scope=col>&lt;dbl&gt;</th><th scope=col>&lt;dbl&gt;</th></tr>\n",
       "</thead>\n",
       "<tbody>\n",
       "\t<tr><td>1             </td><td>82.28</td><td>84.71429</td><td>84.72247</td><td>81.60965</td><td>84.02830</td><td>83.36626</td><td>85.80000</td></tr>\n",
       "\t<tr><td>4             </td><td>84.16</td><td>79.12653</td><td>84.83700</td><td>84.03070</td><td>87.25943</td><td>83.16461</td><td>82.21111</td></tr>\n",
       "\t<tr><td>12            </td><td>75.72</td><td>85.91429</td><td>82.54185</td><td>83.29386</td><td>80.75000</td><td>85.17284</td><td>84.90556</td></tr>\n",
       "\t<tr><td>24            </td><td>92.14</td><td>84.02041</td><td>82.01322</td><td>81.37281</td><td>82.20283</td><td>85.65844</td><td>85.18333</td></tr>\n",
       "\t<tr><td>36            </td><td>78.92</td><td>83.21224</td><td>84.44053</td><td>83.35088</td><td>83.89623</td><td>81.45679</td><td>83.51667</td></tr>\n",
       "\t<tr><td>48            </td><td>85.92</td><td>82.67755</td><td>81.29075</td><td>82.88158</td><td>85.47170</td><td>85.69547</td><td>83.22778</td></tr>\n",
       "\t<tr><td>After 24 Weeks</td><td>33.62</td><td>33.13469</td><td>33.92952</td><td>33.65789</td><td>33.08491</td><td>33.23868</td><td>33.58889</td></tr>\n",
       "</tbody>\n",
       "</table>\n"
      ],
      "text/latex": [
       "A data.frame: 7 × 8\n",
       "\\begin{tabular}{llllllll}\n",
       " time & {[}0, 32{]} & (32, 37{]} & (37, 42{]} & (42, 47{]} & (47, 52{]} & (52, 57{]} & (57, 62{]}\\\\\n",
       " <fct> & <dbl> & <dbl> & <dbl> & <dbl> & <dbl> & <dbl> & <dbl>\\\\\n",
       "\\hline\n",
       "\t 1              & 82.28 & 84.71429 & 84.72247 & 81.60965 & 84.02830 & 83.36626 & 85.80000\\\\\n",
       "\t 4              & 84.16 & 79.12653 & 84.83700 & 84.03070 & 87.25943 & 83.16461 & 82.21111\\\\\n",
       "\t 12             & 75.72 & 85.91429 & 82.54185 & 83.29386 & 80.75000 & 85.17284 & 84.90556\\\\\n",
       "\t 24             & 92.14 & 84.02041 & 82.01322 & 81.37281 & 82.20283 & 85.65844 & 85.18333\\\\\n",
       "\t 36             & 78.92 & 83.21224 & 84.44053 & 83.35088 & 83.89623 & 81.45679 & 83.51667\\\\\n",
       "\t 48             & 85.92 & 82.67755 & 81.29075 & 82.88158 & 85.47170 & 85.69547 & 83.22778\\\\\n",
       "\t After 24 Weeks & 33.62 & 33.13469 & 33.92952 & 33.65789 & 33.08491 & 33.23868 & 33.58889\\\\\n",
       "\\end{tabular}\n"
      ],
      "text/markdown": [
       "\n",
       "A data.frame: 7 × 8\n",
       "\n",
       "| time &lt;fct&gt; | [0, 32] &lt;dbl&gt; | (32, 37] &lt;dbl&gt; | (37, 42] &lt;dbl&gt; | (42, 47] &lt;dbl&gt; | (47, 52] &lt;dbl&gt; | (52, 57] &lt;dbl&gt; | (57, 62] &lt;dbl&gt; |\n",
       "|---|---|---|---|---|---|---|---|\n",
       "| 1              | 82.28 | 84.71429 | 84.72247 | 81.60965 | 84.02830 | 83.36626 | 85.80000 |\n",
       "| 4              | 84.16 | 79.12653 | 84.83700 | 84.03070 | 87.25943 | 83.16461 | 82.21111 |\n",
       "| 12             | 75.72 | 85.91429 | 82.54185 | 83.29386 | 80.75000 | 85.17284 | 84.90556 |\n",
       "| 24             | 92.14 | 84.02041 | 82.01322 | 81.37281 | 82.20283 | 85.65844 | 85.18333 |\n",
       "| 36             | 78.92 | 83.21224 | 84.44053 | 83.35088 | 83.89623 | 81.45679 | 83.51667 |\n",
       "| 48             | 85.92 | 82.67755 | 81.29075 | 82.88158 | 85.47170 | 85.69547 | 83.22778 |\n",
       "| After 24 Weeks | 33.62 | 33.13469 | 33.92952 | 33.65789 | 33.08491 | 33.23868 | 33.58889 |\n",
       "\n"
      ],
      "text/plain": [
       "  time           [0, 32] (32, 37] (37, 42] (42, 47] (47, 52] (52, 57] (57, 62]\n",
       "1 1              82.28   84.71429 84.72247 81.60965 84.02830 83.36626 85.80000\n",
       "2 4              84.16   79.12653 84.83700 84.03070 87.25943 83.16461 82.21111\n",
       "3 12             75.72   85.91429 82.54185 83.29386 80.75000 85.17284 84.90556\n",
       "4 24             92.14   84.02041 82.01322 81.37281 82.20283 85.65844 85.18333\n",
       "5 36             78.92   83.21224 84.44053 83.35088 83.89623 81.45679 83.51667\n",
       "6 48             85.92   82.67755 81.29075 82.88158 85.47170 85.69547 83.22778\n",
       "7 After 24 Weeks 33.62   33.13469 33.92952 33.65789 33.08491 33.23868 33.58889"
      ]
     },
     "metadata": {},
     "output_type": "display_data"
    }
   ],
   "source": [
    "# Constructing Dataframe for plotting ALT Levels across Age groups\n",
    "mean_1 <- vector()\n",
    "mean_2 <- vector()\n",
    "mean_3 <- vector()\n",
    "mean_4 <- vector()\n",
    "mean_5 <- vector()\n",
    "mean_6 <- vector()\n",
    "mean_7 <- vector()\n",
    "for (x in (16:22)){\n",
    "    mean_1[x-15] <- mean(data_ex[which(data_ex$Age == \"[0,32]\"),x])\n",
    "    mean_2[x-15] <- mean(data_ex[which(data_ex$Age == \"(32,37]\"),x])\n",
    "    mean_3[x-15] <- mean(data_ex[which(data_ex$Age == \"(37,42]\"),x])\n",
    "    mean_4[x-15] <- mean(data_ex[which(data_ex$Age == \"(42,47]\"),x])\n",
    "    mean_5[x-15] <- mean(data_ex[which(data_ex$Age == \"(47,52]\"),x])\n",
    "    mean_6[x-15] <- mean(data_ex[which(data_ex$Age == \"(52,57]\"),x])\n",
    "    mean_7[x-15] <- mean(data_ex[which(data_ex$Age == \"(57,62]\"),x])\n",
    "}\n",
    "\n",
    "age_alt <- gndr_alt[\"time\"]\n",
    "age_alt[\"[0, 32]\"] <- mean_1\n",
    "age_alt[\"(32, 37]\"] <- mean_2\n",
    "age_alt[\"(37, 42]\"] <- mean_3\n",
    "age_alt[\"(42, 47]\"] <- mean_4\n",
    "age_alt[\"(47, 52]\"] <- mean_5\n",
    "age_alt[\"(52, 57]\"] <- mean_6\n",
    "age_alt[\"(57, 62]\"] <- mean_7\n",
    "\n",
    "age_alt"
   ]
  },
  {
   "cell_type": "code",
   "execution_count": 11,
   "metadata": {},
   "outputs": [],
   "source": [
    "# Creating a general theme to be applied for all the plots\n",
    "my_theme <- theme(plot.title = element_text(size=20, hjust=0.5),\n",
    "          axis.title.y = element_text(size=16),\n",
    "          axis.title.x = element_text(size=16),\n",
    "          axis.text.y = element_text(size=14),\n",
    "          axis.text.x = element_text(size=14),\n",
    "          legend.title = element_text(size=16),\n",
    "          legend.text = element_text(size=14))\n",
    "color_list <- c(\"#DF3D3D\", \"#FFF200\", \"#4F8300\", \"#1CFF5D\", \"#0DA5CF\", \"#0002FF\", \"#FF00FB\")"
   ]
  },
  {
   "cell_type": "code",
   "execution_count": 12,
   "metadata": {},
   "outputs": [
    {
     "data": {
      "image/png": "[encoded data removed]"
     },
     "metadata": {
      "image/png": {
       "height": 420,
       "width": 420
      }
     },
     "output_type": "display_data"
    }
   ],
   "source": [
    "# Plot for ALT Levels Across Gender\n",
    "plt_gndr <- ggplot(gndr_alt, aes(x=time)) +\n",
    "    geom_line(aes(y=MaleMeanALT, group=1), color=color_list[1]) +\n",
    "    geom_line(aes(y=FemaleMeanALT, group=2), color=color_list[5]) +\n",
    "    geom_point(aes(y=MaleMeanALT, color=time, group=3)) +\n",
    "    scale_color_discrete(name=\"\", limits=c(\"Male\", \"Female\")) +\n",
    "    geom_point(aes(y=MaleMeanALT, group=3), color=color_list[1]) +\n",
    "    geom_point(aes(y=FemaleMeanALT, group=2), color=color_list[5]) +\n",
    "    ggtitle(\"ALT Levels Across Gender\") +\n",
    "    xlab(\"Measurement Time Period\") +\n",
    "    ylab(\"ALT Levels\") +\n",
    "    scale_x_discrete(limits=c(\"1\", \"4\", \"12\", \"24\", \"36\", \"48\", \"After 24 Weeks\"), labels=c(\"1\", \"4\", \"12\", \"24\", \"36\", \"48\", \"Aft 24 W\")) +\n",
    "    my_theme\n",
    "\n",
    "# Plot for ALT Levels Across Age Groups\n",
    "plt_age <- ggplot(age_alt, aes(x=time)) +\n",
    "    geom_line(aes(y=age_alt[,2], group=1), color=color_list[1]) +\n",
    "    geom_line(aes(y=age_alt[,3], group=1), color=color_list[2]) +\n",
    "    geom_line(aes(y=age_alt[,4], group=1), color=color_list[3]) +\n",
    "    geom_line(aes(y=age_alt[,5], group=1), color=color_list[4]) +\n",
    "    geom_line(aes(y=age_alt[,6], group=1), color=color_list[5]) +\n",
    "    geom_line(aes(y=age_alt[,7], group=1), color=color_list[6]) +\n",
    "    geom_line(aes(y=age_alt[,8], group=1), color=color_list[7]) +\n",
    "    geom_point(aes(y=age_alt[,2], group=1), color=color_list[1]) +\n",
    "    geom_point(aes(y=age_alt[,3], group=1), color=color_list[2]) +\n",
    "    geom_point(aes(y=age_alt[,4], group=1), color=color_list[3]) +\n",
    "    geom_point(aes(y=age_alt[,5], group=1), color=color_list[4]) +\n",
    "    geom_point(aes(y=age_alt[,6], group=1), color=color_list[5]) +\n",
    "    geom_point(aes(y=age_alt[,7], group=1), color=color_list[6]) +\n",
    "    geom_point(aes(y=age_alt[,8], group=1, color=color_list)) +\n",
    "    scale_color_manual(name=\"\", labels=c(\"[0,32]\", \"(32,37]\", \"(37,42]\", \"(42,47]\", \"(47,52]\", \"(52,57]\", \"(57, 62]\"), values=color_list) +\n",
    "    geom_point(aes(y=age_alt[,8], group=1), color=color_list[7]) +\n",
    "    scale_x_discrete(limits=c(\"1\", \"4\", \"12\", \"24\", \"36\", \"48\", \"After 24 Weeks\"), labels=c(\"1\", \"4\", \"12\", \"24\", \"36\", \"48\", \"Aft 24 W\")) +\n",
    "    ggtitle(\"ALT Levels Across Age Groups\") +\n",
    "    xlab(\"Measurement Time Period\") +\n",
    "    ylab(\"ALT Levels\") +\n",
    "    my_theme\n",
    "\n",
    "grid.arrange(plt_gndr, plt_age, nrow=2)"
   ]
  },
  {
   "cell_type": "markdown",
   "metadata": {},
   "source": [
    "<h3>Analyses:-</h3>\n",
    "* **ALT(Alanine Aminotransferase) Test**<br> The alanine aminotransferase (ALT) test is a blood test that checks for liver damage. *Higher levels* of ALT indicate *Greater Liver Damage* (reference:- https://www.webmd.com/a-to-z-guides/alanine-aminotransferase-test#1)\n",
    "* **Across Gender**<br> Although there is not much variance between Male and Female ALT (mean) levels, both of them do *drop after 24 Weeks* showing *improvement in Liver Conditions* for both\n",
    "* **Across Age**<br> Though there is variation in ALT (mean) levels amongst different age groups, all of them follow a *general trend* and *drop* together after 24 Weeks also showing *improvement in Liver conditions*"
   ]
  }
 ],
 "metadata": {
  "kernelspec": {
   "display_name": "R",
   "language": "R",
   "name": "ir"
  },
  "language_info": {
   "codemirror_mode": "r",
   "file_extension": ".r",
   "mimetype": "text/x-r-source",
   "name": "R",
   "pygments_lexer": "r",
   "version": "3.6.0"
  }
 },
 "nbformat": 4,
 "nbformat_minor": 1
}
