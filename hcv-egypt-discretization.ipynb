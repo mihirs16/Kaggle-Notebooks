{
 "cells": [
  {
   "cell_type": "markdown",
   "metadata": {
    "_cell_guid": "a623409d-ddc2-401e-af4f-8fb5b8c673e2",
    "_uuid": "7018750b-2bdd-44bf-bf63-5bbc28926e6c"
   },
   "source": [
    "<hr>\n",
    "# Setting Up"
   ]
  },
  {
   "cell_type": "code",
   "execution_count": 1,
   "metadata": {
    "_cell_guid": "5460fb2e-843d-4c24-a565-d8272633e37a",
    "_execution_state": "idle",
    "_uuid": "2945353d-2142-4457-b6e8-980ce31b6bca"
   },
   "outputs": [
    {
     "name": "stderr",
     "output_type": "stream",
     "text": [
      "── \u001b[1mAttaching packages\u001b[22m ─────────────────────────────────────── tidyverse 1.2.1 ──\n",
      "\n",
      "\u001b[32m✔\u001b[39m \u001b[34mggplot2\u001b[39m 3.2.1.\u001b[31m9000\u001b[39m     \u001b[32m✔\u001b[39m \u001b[34mpurrr  \u001b[39m 0.3.3     \n",
      "\u001b[32m✔\u001b[39m \u001b[34mtibble \u001b[39m 2.1.3          \u001b[32m✔\u001b[39m \u001b[34mdplyr  \u001b[39m 0.8.3     \n",
      "\u001b[32m✔\u001b[39m \u001b[34mtidyr  \u001b[39m 1.0.0          \u001b[32m✔\u001b[39m \u001b[34mstringr\u001b[39m 1.4.0     \n",
      "\u001b[32m✔\u001b[39m \u001b[34mreadr  \u001b[39m 1.3.1          \u001b[32m✔\u001b[39m \u001b[34mforcats\u001b[39m 0.4.0     \n",
      "\n",
      "── \u001b[1mConflicts\u001b[22m ────────────────────────────────────────── tidyverse_conflicts() ──\n",
      "\u001b[31m✖\u001b[39m \u001b[34mdplyr\u001b[39m::\u001b[32mfilter()\u001b[39m masks \u001b[34mstats\u001b[39m::filter()\n",
      "\u001b[31m✖\u001b[39m \u001b[34mdplyr\u001b[39m::\u001b[32mlag()\u001b[39m    masks \u001b[34mstats\u001b[39m::lag()\n",
      "\n"
     ]
    },
    {
     "data": {
      "text/html": [
       "<ol class=list-inline>\n",
       "\t<li>'hcvegyptdiscretised'</li>\n",
       "\t<li>'hepatitis-c-virus-hcv-for-egyptian-patients'</li>\n",
       "</ol>\n"
      ],
      "text/latex": [
       "\\begin{enumerate*}\n",
       "\\item 'hcvegyptdiscretised'\n",
       "\\item 'hepatitis-c-virus-hcv-for-egyptian-patients'\n",
       "\\end{enumerate*}\n"
      ],
      "text/markdown": [
       "1. 'hcvegyptdiscretised'\n",
       "2. 'hepatitis-c-virus-hcv-for-egyptian-patients'\n",
       "\n",
       "\n"
      ],
      "text/plain": [
       "[1] \"hcvegyptdiscretised\"                        \n",
       "[2] \"hepatitis-c-virus-hcv-for-egyptian-patients\""
      ]
     },
     "metadata": {},
     "output_type": "display_data"
    }
   ],
   "source": [
    "## Importing packages\n",
    "\n",
    "# This R environment comes with all of CRAN and many other helpful packages preinstalled.\n",
    "# You can see which packages are installed by checking out the kaggle/rstats docker image: \n",
    "# https://github.com/kaggle/docker-rstats\n",
    "\n",
    "library(tidyverse) # metapackage with lots of helpful functions\n",
    "\n",
    "## Running code\n",
    "\n",
    "# In a notebook, you can run a single code cell by clicking in the cell and then hitting \n",
    "# the blue arrow to the left, or by clicking in the cell and pressing Shift+Enter. In a script, \n",
    "# you can run code by highlighting the code you want to run and then clicking the blue arrow\n",
    "# at the bottom of this window.\n",
    "\n",
    "## Reading in files\n",
    "\n",
    "# You can access files from datasets you've added to this kernel in the \"../input/\" directory.\n",
    "# You can see the files added to this kernel by running the code below. \n",
    "\n",
    "list.files(path = \"../input\")\n",
    "\n",
    "## Saving data\n",
    "\n",
    "# If you save any files or images, these will be put in the \"output\" directory. You \n",
    "# can see the output directory by committing and running your kernel (using the \n",
    "# Commit & Run button) and then checking out the compiled version of your kernel."
   ]
  },
  {
   "cell_type": "code",
   "execution_count": 2,
   "metadata": {
    "_cell_guid": "92e1505b-8eb8-42d6-b7ab-3c75b01c215b",
    "_uuid": "e9f9fad3-ae64-4ecc-89f6-9f653e021482"
   },
   "outputs": [],
   "source": [
    "library(pacman)\n",
    "pacman::p_load(pacman, rio)"
   ]
  },
  {
   "cell_type": "markdown",
   "metadata": {
    "_cell_guid": "59b16b9a-8c81-4638-a9e5-d43dbbf054e4",
    "_uuid": "999c4bd5-9f12-462f-bb65-2681dc00cb70"
   },
   "source": [
    "<hr>\n",
    "# Importing CSV Files"
   ]
  },
  {
   "cell_type": "code",
   "execution_count": 3,
   "metadata": {
    "_cell_guid": "c0897331-179c-4401-bfbd-4ba464bf94e8",
    "_uuid": "b268fad5-05e1-4e05-aaef-0321cfa43495"
   },
   "outputs": [
    {
     "data": {
      "text/html": [
       "<table>\n",
       "<caption>A data.frame: 6 × 29</caption>\n",
       "<thead>\n",
       "\t<tr><th></th><th scope=col>Age</th><th scope=col>Gender</th><th scope=col>BMI</th><th scope=col>Fever</th><th scope=col>Nausea/Vomting</th><th scope=col>Headache</th><th scope=col>Diarrhea</th><th scope=col>Fatigue &amp; generalized bone ache</th><th scope=col>Jaundice</th><th scope=col>Epigastric pain</th><th scope=col>⋯</th><th scope=col>ALT 36</th><th scope=col>ALT 48</th><th scope=col>ALT after 24 w</th><th scope=col>RNA Base</th><th scope=col>RNA 4</th><th scope=col>RNA 12</th><th scope=col>RNA EOT</th><th scope=col>RNA EF</th><th scope=col>Baseline histological Grading</th><th scope=col>Baselinehistological staging</th></tr>\n",
       "\t<tr><th></th><th scope=col>&lt;int&gt;</th><th scope=col>&lt;int&gt;</th><th scope=col>&lt;int&gt;</th><th scope=col>&lt;int&gt;</th><th scope=col>&lt;int&gt;</th><th scope=col>&lt;int&gt;</th><th scope=col>&lt;int&gt;</th><th scope=col>&lt;int&gt;</th><th scope=col>&lt;int&gt;</th><th scope=col>&lt;int&gt;</th><th scope=col>⋯</th><th scope=col>&lt;int&gt;</th><th scope=col>&lt;int&gt;</th><th scope=col>&lt;int&gt;</th><th scope=col>&lt;int&gt;</th><th scope=col>&lt;int&gt;</th><th scope=col>&lt;int&gt;</th><th scope=col>&lt;int&gt;</th><th scope=col>&lt;int&gt;</th><th scope=col>&lt;int&gt;</th><th scope=col>&lt;int&gt;</th></tr>\n",
       "</thead>\n",
       "<tbody>\n",
       "\t<tr><th scope=row>1</th><td>56</td><td>1</td><td>35</td><td>2</td><td>1</td><td>1</td><td>1</td><td>2</td><td>2</td><td>2</td><td>⋯</td><td> 5</td><td>  5</td><td> 5</td><td> 655330</td><td> 634536</td><td> 288194</td><td>     5</td><td>     5</td><td>13</td><td>2</td></tr>\n",
       "\t<tr><th scope=row>2</th><td>46</td><td>1</td><td>29</td><td>1</td><td>2</td><td>2</td><td>1</td><td>2</td><td>2</td><td>1</td><td>⋯</td><td>57</td><td>123</td><td>44</td><td>  40620</td><td> 538635</td><td> 637056</td><td>336804</td><td> 31085</td><td> 4</td><td>2</td></tr>\n",
       "\t<tr><th scope=row>3</th><td>57</td><td>1</td><td>33</td><td>2</td><td>2</td><td>2</td><td>2</td><td>1</td><td>1</td><td>1</td><td>⋯</td><td> 5</td><td>  5</td><td> 5</td><td> 571148</td><td> 661346</td><td>      5</td><td>735945</td><td>558829</td><td> 4</td><td>4</td></tr>\n",
       "\t<tr><th scope=row>4</th><td>49</td><td>2</td><td>33</td><td>1</td><td>2</td><td>1</td><td>2</td><td>1</td><td>2</td><td>1</td><td>⋯</td><td>48</td><td> 77</td><td>33</td><td>1041941</td><td> 449939</td><td> 585688</td><td>744463</td><td>582301</td><td>10</td><td>3</td></tr>\n",
       "\t<tr><th scope=row>5</th><td>59</td><td>1</td><td>32</td><td>1</td><td>1</td><td>2</td><td>1</td><td>2</td><td>2</td><td>2</td><td>⋯</td><td>94</td><td> 90</td><td>30</td><td> 660410</td><td> 738756</td><td>3731527</td><td>338946</td><td>242861</td><td>11</td><td>1</td></tr>\n",
       "\t<tr><th scope=row>6</th><td>58</td><td>2</td><td>22</td><td>2</td><td>2</td><td>2</td><td>1</td><td>2</td><td>2</td><td>1</td><td>⋯</td><td>73</td><td>114</td><td>29</td><td>1157452</td><td>1086852</td><td>      5</td><td>     5</td><td>     5</td><td> 4</td><td>4</td></tr>\n",
       "</tbody>\n",
       "</table>\n"
      ],
      "text/latex": [
       "A data.frame: 6 × 29\n",
       "\\begin{tabular}{r|lllllllllllllllllllll}\n",
       "  & Age & Gender & BMI & Fever & Nausea/Vomting & Headache & Diarrhea & Fatigue \\& generalized bone ache & Jaundice & Epigastric pain & ⋯ & ALT 36 & ALT 48 & ALT after 24 w & RNA Base & RNA 4 & RNA 12 & RNA EOT & RNA EF & Baseline histological Grading & Baselinehistological staging\\\\\n",
       "  & <int> & <int> & <int> & <int> & <int> & <int> & <int> & <int> & <int> & <int> & ⋯ & <int> & <int> & <int> & <int> & <int> & <int> & <int> & <int> & <int> & <int>\\\\\n",
       "\\hline\n",
       "\t1 & 56 & 1 & 35 & 2 & 1 & 1 & 1 & 2 & 2 & 2 & ⋯ &  5 &   5 &  5 &  655330 &  634536 &  288194 &      5 &      5 & 13 & 2\\\\\n",
       "\t2 & 46 & 1 & 29 & 1 & 2 & 2 & 1 & 2 & 2 & 1 & ⋯ & 57 & 123 & 44 &   40620 &  538635 &  637056 & 336804 &  31085 &  4 & 2\\\\\n",
       "\t3 & 57 & 1 & 33 & 2 & 2 & 2 & 2 & 1 & 1 & 1 & ⋯ &  5 &   5 &  5 &  571148 &  661346 &       5 & 735945 & 558829 &  4 & 4\\\\\n",
       "\t4 & 49 & 2 & 33 & 1 & 2 & 1 & 2 & 1 & 2 & 1 & ⋯ & 48 &  77 & 33 & 1041941 &  449939 &  585688 & 744463 & 582301 & 10 & 3\\\\\n",
       "\t5 & 59 & 1 & 32 & 1 & 1 & 2 & 1 & 2 & 2 & 2 & ⋯ & 94 &  90 & 30 &  660410 &  738756 & 3731527 & 338946 & 242861 & 11 & 1\\\\\n",
       "\t6 & 58 & 2 & 22 & 2 & 2 & 2 & 1 & 2 & 2 & 1 & ⋯ & 73 & 114 & 29 & 1157452 & 1086852 &       5 &      5 &      5 &  4 & 4\\\\\n",
       "\\end{tabular}\n"
      ],
      "text/markdown": [
       "\n",
       "A data.frame: 6 × 29\n",
       "\n",
       "| <!--/--> | Age &lt;int&gt; | Gender &lt;int&gt; | BMI &lt;int&gt; | Fever &lt;int&gt; | Nausea/Vomting &lt;int&gt; | Headache &lt;int&gt; | Diarrhea &lt;int&gt; | Fatigue &amp; generalized bone ache &lt;int&gt; | Jaundice &lt;int&gt; | Epigastric pain &lt;int&gt; | ⋯ ⋯ | ALT 36 &lt;int&gt; | ALT 48 &lt;int&gt; | ALT after 24 w &lt;int&gt; | RNA Base &lt;int&gt; | RNA 4 &lt;int&gt; | RNA 12 &lt;int&gt; | RNA EOT &lt;int&gt; | RNA EF &lt;int&gt; | Baseline histological Grading &lt;int&gt; | Baselinehistological staging &lt;int&gt; |\n",
       "|---|---|---|---|---|---|---|---|---|---|---|---|---|---|---|---|---|---|---|---|---|---|\n",
       "| 1 | 56 | 1 | 35 | 2 | 1 | 1 | 1 | 2 | 2 | 2 | ⋯ |  5 |   5 |  5 |  655330 |  634536 |  288194 |      5 |      5 | 13 | 2 |\n",
       "| 2 | 46 | 1 | 29 | 1 | 2 | 2 | 1 | 2 | 2 | 1 | ⋯ | 57 | 123 | 44 |   40620 |  538635 |  637056 | 336804 |  31085 |  4 | 2 |\n",
       "| 3 | 57 | 1 | 33 | 2 | 2 | 2 | 2 | 1 | 1 | 1 | ⋯ |  5 |   5 |  5 |  571148 |  661346 |       5 | 735945 | 558829 |  4 | 4 |\n",
       "| 4 | 49 | 2 | 33 | 1 | 2 | 1 | 2 | 1 | 2 | 1 | ⋯ | 48 |  77 | 33 | 1041941 |  449939 |  585688 | 744463 | 582301 | 10 | 3 |\n",
       "| 5 | 59 | 1 | 32 | 1 | 1 | 2 | 1 | 2 | 2 | 2 | ⋯ | 94 |  90 | 30 |  660410 |  738756 | 3731527 | 338946 | 242861 | 11 | 1 |\n",
       "| 6 | 58 | 2 | 22 | 2 | 2 | 2 | 1 | 2 | 2 | 1 | ⋯ | 73 | 114 | 29 | 1157452 | 1086852 |       5 |      5 |      5 |  4 | 4 |\n",
       "\n"
      ],
      "text/plain": [
       "  Age Gender BMI Fever Nausea/Vomting Headache Diarrhea\n",
       "1 56  1      35  2     1              1        1       \n",
       "2 46  1      29  1     2              2        1       \n",
       "3 57  1      33  2     2              2        2       \n",
       "4 49  2      33  1     2              1        2       \n",
       "5 59  1      32  1     1              2        1       \n",
       "6 58  2      22  2     2              2        1       \n",
       "  Fatigue & generalized bone ache Jaundice Epigastric pain ⋯ ALT 36 ALT 48\n",
       "1 2                               2        2               ⋯  5       5   \n",
       "2 2                               2        1               ⋯ 57     123   \n",
       "3 1                               1        1               ⋯  5       5   \n",
       "4 1                               2        1               ⋯ 48      77   \n",
       "5 2                               2        2               ⋯ 94      90   \n",
       "6 2                               2        1               ⋯ 73     114   \n",
       "  ALT after 24 w RNA Base RNA 4   RNA 12  RNA EOT RNA EF\n",
       "1  5              655330   634536  288194      5       5\n",
       "2 44               40620   538635  637056 336804   31085\n",
       "3  5              571148   661346       5 735945  558829\n",
       "4 33             1041941   449939  585688 744463  582301\n",
       "5 30              660410   738756 3731527 338946  242861\n",
       "6 29             1157452  1086852       5      5       5\n",
       "  Baseline histological Grading Baselinehistological staging\n",
       "1 13                            2                           \n",
       "2  4                            2                           \n",
       "3  4                            4                           \n",
       "4 10                            3                           \n",
       "5 11                            1                           \n",
       "6  4                            4                           "
      ]
     },
     "metadata": {},
     "output_type": "display_data"
    },
    {
     "data": {
      "text/html": [
       "<table>\n",
       "<caption>A data.frame: 29 × 3</caption>\n",
       "<thead>\n",
       "\t<tr><th></th><th scope=col>Feature Names</th><th scope=col>Feature Values</th><th scope=col>Discretization (Items)</th></tr>\n",
       "\t<tr><th></th><th scope=col>&lt;chr&gt;</th><th scope=col>&lt;chr&gt;</th><th scope=col>&lt;chr&gt;</th></tr>\n",
       "</thead>\n",
       "<tbody>\n",
       "\t<tr><th scope=row>1</th><td>Age                          </td><td>32:61          </td><td>[0; 32], ]32; 37], ]37; 42],]42; 47], ]47; 52], ]52; 57],]57; 62]                                          </td></tr>\n",
       "\t<tr><th scope=row>2</th><td>Gender                       </td><td>Male,Female    </td><td>[Male], [Female]                                                                                           </td></tr>\n",
       "\t<tr><th scope=row>3</th><td>BMI(Body Mass Index)         </td><td>22:35          </td><td>[0; 18:5[ [18:5; 25[, [25; 30[, [30; 35[, [35; 40[                                                         </td></tr>\n",
       "\t<tr><th scope=row>4</th><td>Fever                        </td><td>Absent, Present</td><td>[Absent], [Present] -                                                                                      </td></tr>\n",
       "\t<tr><th scope=row>5</th><td>Nausea/Vomiting              </td><td>Absent, Present</td><td>[Absent], [Present] -                                                                                      </td></tr>\n",
       "\t<tr><th scope=row>6</th><td>Headache                     </td><td>Absent, Present</td><td>[Absent], [Present] -                                                                                      </td></tr>\n",
       "\t<tr><th scope=row>7</th><td>Diarrhea                     </td><td>Absent, Present</td><td>[Absent], [Present] -                                                                                      </td></tr>\n",
       "\t<tr><th scope=row>8</th><td>Fatigue                      </td><td>Absent, Present</td><td>[Absent], [Present] -                                                                                      </td></tr>\n",
       "\t<tr><th scope=row>9</th><td>Bone ache                    </td><td>Absent, Present</td><td>[Absent], [Present] -                                                                                      </td></tr>\n",
       "\t<tr><th scope=row>10</th><td>Jaundice                     </td><td>Absent, Present</td><td>[Absent], [Present] -                                                                                      </td></tr>\n",
       "\t<tr><th scope=row>11</th><td>Epigastria pain              </td><td>Absent, Present</td><td>[Absent], [Present] -                                                                                      </td></tr>\n",
       "\t<tr><th scope=row>12</th><td>WBC(White Blood Cells)       </td><td>2991:12101     </td><td>[0; 4000[, [4000; 11000[, [11000; 12101]                                                                   </td></tr>\n",
       "\t<tr><th scope=row>13</th><td>RBC(Red Blood Cells)         </td><td>3816422:5018451</td><td>[0; 3000000[, [3000000; 5000000[,[5000000; 5018451]                                                        </td></tr>\n",
       "\t<tr><th scope=row>14</th><td>HGB(Hemoglobin)              </td><td>2:20           </td><td>If (Gender==[Male]):[2; 14[, [14; 17:5], ]17:5; 20]If(Gender==[Female]):[2; 12:3[, [12:3; 15:3], ]15:3; 20]</td></tr>\n",
       "\t<tr><th scope=row>15</th><td>Plat(Platelet)               </td><td>93013:226464   </td><td>[93013; 100000[, [100000; 255000[,[255000; 226465[                                                         </td></tr>\n",
       "\t<tr><th scope=row>16</th><td>AST1(1 week)                 </td><td>0.088888889    </td><td>[0; 20[, [20; 40], ]40; 128]                                                                               </td></tr>\n",
       "\t<tr><th scope=row>17</th><td>ALT1(1 week)                 </td><td>0.088888889    </td><td>[0; 20[, [20; 40], ]40; 128]                                                                               </td></tr>\n",
       "\t<tr><th scope=row>18</th><td>ALT4(4 weeks)                </td><td>0.088888889    </td><td>[0; 20[, [20; 40], ]40; 128]                                                                               </td></tr>\n",
       "\t<tr><th scope=row>19</th><td>ALT12(12 weeks)              </td><td>0.088888889    </td><td>[0; 20[, [20; 40], ]40; 128]                                                                               </td></tr>\n",
       "\t<tr><th scope=row>20</th><td>ALT24(24 weeks)              </td><td>0.088888889    </td><td>[0; 20[, [20; 40], ]40; 128]                                                                               </td></tr>\n",
       "\t<tr><th scope=row>21</th><td>ALT36(36 weeks)              </td><td>0.088888889    </td><td>[0; 20[, [20; 40], ]40; 128]                                                                               </td></tr>\n",
       "\t<tr><th scope=row>22</th><td>ALT48(48 weeks)              </td><td>0.088888889    </td><td>[0; 20[, [20; 40], ]40; 128]                                                                               </td></tr>\n",
       "\t<tr><th scope=row>23</th><td>RNA Base                     </td><td>0:1201086      </td><td>[0; 5], ]5; 1201086]                                                                                       </td></tr>\n",
       "\t<tr><th scope=row>24</th><td>RNA 4                        </td><td>0:1201715      </td><td>[0; 5], ]5; 1201715]                                                                                       </td></tr>\n",
       "\t<tr><th scope=row>25</th><td>RNA 12                       </td><td>0:3731527      </td><td>[0; 5], ]5; 3731527]                                                                                       </td></tr>\n",
       "\t<tr><th scope=row>26</th><td>RNA EOT                      </td><td>0:808450       </td><td>[0; 5], ]5; 808450]                                                                                        </td></tr>\n",
       "\t<tr><th scope=row>27</th><td>RNA EF(Elongation Factor)    </td><td>0:808450       </td><td>[0; 5], ]5; 808450]                                                                                        </td></tr>\n",
       "\t<tr><th scope=row>28</th><td>Baseline Histological Grading</td><td>1:16           </td><td>[1]; [2]; [3]; :::[16]                                                                                     </td></tr>\n",
       "\t<tr><th scope=row>29</th><td>Baseline Histological        </td><td>F0:F4          </td><td>[No Fibrosis], [Portal Fibrosis],Staging (Class Label) [Few Septa], [Many Septa], [Cirrhosis]              </td></tr>\n",
       "</tbody>\n",
       "</table>\n"
      ],
      "text/latex": [
       "A data.frame: 29 × 3\n",
       "\\begin{tabular}{r|lll}\n",
       "  & Feature Names & Feature Values & Discretization (Items)\\\\\n",
       "  & <chr> & <chr> & <chr>\\\\\n",
       "\\hline\n",
       "\t1 & Age                           & 32:61           & {[}0; 32{]}, {]}32; 37{]}, {]}37; 42{]},{]}42; 47{]}, {]}47; 52{]}, {]}52; 57{]},{]}57; 62{]}                                          \\\\\n",
       "\t2 & Gender                        & Male,Female     & {[}Male{]}, {[}Female{]}                                                                                           \\\\\n",
       "\t3 & BMI(Body Mass Index)          & 22:35           & {[}0; 18:5{[} {[}18:5; 25{[}, {[}25; 30{[}, {[}30; 35{[}, {[}35; 40{[}                                                         \\\\\n",
       "\t4 & Fever                         & Absent, Present & {[}Absent{]}, {[}Present{]} -                                                                                      \\\\\n",
       "\t5 & Nausea/Vomiting               & Absent, Present & {[}Absent{]}, {[}Present{]} -                                                                                      \\\\\n",
       "\t6 & Headache                      & Absent, Present & {[}Absent{]}, {[}Present{]} -                                                                                      \\\\\n",
       "\t7 & Diarrhea                      & Absent, Present & {[}Absent{]}, {[}Present{]} -                                                                                      \\\\\n",
       "\t8 & Fatigue                       & Absent, Present & {[}Absent{]}, {[}Present{]} -                                                                                      \\\\\n",
       "\t9 & Bone ache                     & Absent, Present & {[}Absent{]}, {[}Present{]} -                                                                                      \\\\\n",
       "\t10 & Jaundice                      & Absent, Present & {[}Absent{]}, {[}Present{]} -                                                                                      \\\\\n",
       "\t11 & Epigastria pain               & Absent, Present & {[}Absent{]}, {[}Present{]} -                                                                                      \\\\\n",
       "\t12 & WBC(White Blood Cells)        & 2991:12101      & {[}0; 4000{[}, {[}4000; 11000{[}, {[}11000; 12101{]}                                                                   \\\\\n",
       "\t13 & RBC(Red Blood Cells)          & 3816422:5018451 & {[}0; 3000000{[}, {[}3000000; 5000000{[},{[}5000000; 5018451{]}                                                        \\\\\n",
       "\t14 & HGB(Hemoglobin)               & 2:20            & If (Gender=={[}Male{]}):{[}2; 14{[}, {[}14; 17:5{]}, {]}17:5; 20{]}If(Gender=={[}Female{]}):{[}2; 12:3{[}, {[}12:3; 15:3{]}, {]}15:3; 20{]}\\\\\n",
       "\t15 & Plat(Platelet)                & 93013:226464    & {[}93013; 100000{[}, {[}100000; 255000{[},{[}255000; 226465{[}                                                         \\\\\n",
       "\t16 & AST1(1 week)                  & 0.088888889     & {[}0; 20{[}, {[}20; 40{]}, {]}40; 128{]}                                                                               \\\\\n",
       "\t17 & ALT1(1 week)                  & 0.088888889     & {[}0; 20{[}, {[}20; 40{]}, {]}40; 128{]}                                                                               \\\\\n",
       "\t18 & ALT4(4 weeks)                 & 0.088888889     & {[}0; 20{[}, {[}20; 40{]}, {]}40; 128{]}                                                                               \\\\\n",
       "\t19 & ALT12(12 weeks)               & 0.088888889     & {[}0; 20{[}, {[}20; 40{]}, {]}40; 128{]}                                                                               \\\\\n",
       "\t20 & ALT24(24 weeks)               & 0.088888889     & {[}0; 20{[}, {[}20; 40{]}, {]}40; 128{]}                                                                               \\\\\n",
       "\t21 & ALT36(36 weeks)               & 0.088888889     & {[}0; 20{[}, {[}20; 40{]}, {]}40; 128{]}                                                                               \\\\\n",
       "\t22 & ALT48(48 weeks)               & 0.088888889     & {[}0; 20{[}, {[}20; 40{]}, {]}40; 128{]}                                                                               \\\\\n",
       "\t23 & RNA Base                      & 0:1201086       & {[}0; 5{]}, {]}5; 1201086{]}                                                                                       \\\\\n",
       "\t24 & RNA 4                         & 0:1201715       & {[}0; 5{]}, {]}5; 1201715{]}                                                                                       \\\\\n",
       "\t25 & RNA 12                        & 0:3731527       & {[}0; 5{]}, {]}5; 3731527{]}                                                                                       \\\\\n",
       "\t26 & RNA EOT                       & 0:808450        & {[}0; 5{]}, {]}5; 808450{]}                                                                                        \\\\\n",
       "\t27 & RNA EF(Elongation Factor)     & 0:808450        & {[}0; 5{]}, {]}5; 808450{]}                                                                                        \\\\\n",
       "\t28 & Baseline Histological Grading & 1:16            & {[}1{]}; {[}2{]}; {[}3{]}; :::{[}16{]}                                                                                     \\\\\n",
       "\t29 & Baseline Histological         & F0:F4           & {[}No Fibrosis{]}, {[}Portal Fibrosis{]},Staging (Class Label) {[}Few Septa{]}, {[}Many Septa{]}, {[}Cirrhosis{]}              \\\\\n",
       "\\end{tabular}\n"
      ],
      "text/markdown": [
       "\n",
       "A data.frame: 29 × 3\n",
       "\n",
       "| <!--/--> | Feature Names &lt;chr&gt; | Feature Values &lt;chr&gt; | Discretization (Items) &lt;chr&gt; |\n",
       "|---|---|---|---|\n",
       "| 1 | Age                           | 32:61           | [0; 32], ]32; 37], ]37; 42],]42; 47], ]47; 52], ]52; 57],]57; 62]                                           |\n",
       "| 2 | Gender                        | Male,Female     | [Male], [Female]                                                                                            |\n",
       "| 3 | BMI(Body Mass Index)          | 22:35           | [0; 18:5[ [18:5; 25[, [25; 30[, [30; 35[, [35; 40[                                                          |\n",
       "| 4 | Fever                         | Absent, Present | [Absent], [Present] -                                                                                       |\n",
       "| 5 | Nausea/Vomiting               | Absent, Present | [Absent], [Present] -                                                                                       |\n",
       "| 6 | Headache                      | Absent, Present | [Absent], [Present] -                                                                                       |\n",
       "| 7 | Diarrhea                      | Absent, Present | [Absent], [Present] -                                                                                       |\n",
       "| 8 | Fatigue                       | Absent, Present | [Absent], [Present] -                                                                                       |\n",
       "| 9 | Bone ache                     | Absent, Present | [Absent], [Present] -                                                                                       |\n",
       "| 10 | Jaundice                      | Absent, Present | [Absent], [Present] -                                                                                       |\n",
       "| 11 | Epigastria pain               | Absent, Present | [Absent], [Present] -                                                                                       |\n",
       "| 12 | WBC(White Blood Cells)        | 2991:12101      | [0; 4000[, [4000; 11000[, [11000; 12101]                                                                    |\n",
       "| 13 | RBC(Red Blood Cells)          | 3816422:5018451 | [0; 3000000[, [3000000; 5000000[,[5000000; 5018451]                                                         |\n",
       "| 14 | HGB(Hemoglobin)               | 2:20            | If (Gender==[Male]):[2; 14[, [14; 17:5], ]17:5; 20]If(Gender==[Female]):[2; 12:3[, [12:3; 15:3], ]15:3; 20] |\n",
       "| 15 | Plat(Platelet)                | 93013:226464    | [93013; 100000[, [100000; 255000[,[255000; 226465[                                                          |\n",
       "| 16 | AST1(1 week)                  | 0.088888889     | [0; 20[, [20; 40], ]40; 128]                                                                                |\n",
       "| 17 | ALT1(1 week)                  | 0.088888889     | [0; 20[, [20; 40], ]40; 128]                                                                                |\n",
       "| 18 | ALT4(4 weeks)                 | 0.088888889     | [0; 20[, [20; 40], ]40; 128]                                                                                |\n",
       "| 19 | ALT12(12 weeks)               | 0.088888889     | [0; 20[, [20; 40], ]40; 128]                                                                                |\n",
       "| 20 | ALT24(24 weeks)               | 0.088888889     | [0; 20[, [20; 40], ]40; 128]                                                                                |\n",
       "| 21 | ALT36(36 weeks)               | 0.088888889     | [0; 20[, [20; 40], ]40; 128]                                                                                |\n",
       "| 22 | ALT48(48 weeks)               | 0.088888889     | [0; 20[, [20; 40], ]40; 128]                                                                                |\n",
       "| 23 | RNA Base                      | 0:1201086       | [0; 5], ]5; 1201086]                                                                                        |\n",
       "| 24 | RNA 4                         | 0:1201715       | [0; 5], ]5; 1201715]                                                                                        |\n",
       "| 25 | RNA 12                        | 0:3731527       | [0; 5], ]5; 3731527]                                                                                        |\n",
       "| 26 | RNA EOT                       | 0:808450        | [0; 5], ]5; 808450]                                                                                         |\n",
       "| 27 | RNA EF(Elongation Factor)     | 0:808450        | [0; 5], ]5; 808450]                                                                                         |\n",
       "| 28 | Baseline Histological Grading | 1:16            | [1]; [2]; [3]; :::[16]                                                                                      |\n",
       "| 29 | Baseline Histological         | F0:F4           | [No Fibrosis], [Portal Fibrosis],Staging (Class Label) [Few Septa], [Many Septa], [Cirrhosis]               |\n",
       "\n"
      ],
      "text/plain": [
       "   Feature Names                 Feature Values \n",
       "1  Age                           32:61          \n",
       "2  Gender                        Male,Female    \n",
       "3  BMI(Body Mass Index)          22:35          \n",
       "4  Fever                         Absent, Present\n",
       "5  Nausea/Vomiting               Absent, Present\n",
       "6  Headache                      Absent, Present\n",
       "7  Diarrhea                      Absent, Present\n",
       "8  Fatigue                       Absent, Present\n",
       "9  Bone ache                     Absent, Present\n",
       "10 Jaundice                      Absent, Present\n",
       "11 Epigastria pain               Absent, Present\n",
       "12 WBC(White Blood Cells)        2991:12101     \n",
       "13 RBC(Red Blood Cells)          3816422:5018451\n",
       "14 HGB(Hemoglobin)               2:20           \n",
       "15 Plat(Platelet)                93013:226464   \n",
       "16 AST1(1 week)                  0.088888889    \n",
       "17 ALT1(1 week)                  0.088888889    \n",
       "18 ALT4(4 weeks)                 0.088888889    \n",
       "19 ALT12(12 weeks)               0.088888889    \n",
       "20 ALT24(24 weeks)               0.088888889    \n",
       "21 ALT36(36 weeks)               0.088888889    \n",
       "22 ALT48(48 weeks)               0.088888889    \n",
       "23 RNA Base                      0:1201086      \n",
       "24 RNA 4                         0:1201715      \n",
       "25 RNA 12                        0:3731527      \n",
       "26 RNA EOT                       0:808450       \n",
       "27 RNA EF(Elongation Factor)     0:808450       \n",
       "28 Baseline Histological Grading 1:16           \n",
       "29 Baseline Histological         F0:F4          \n",
       "   Discretization (Items)                                                                                     \n",
       "1  [0; 32], ]32; 37], ]37; 42],]42; 47], ]47; 52], ]52; 57],]57; 62]                                          \n",
       "2  [Male], [Female]                                                                                           \n",
       "3  [0; 18:5[ [18:5; 25[, [25; 30[, [30; 35[, [35; 40[                                                         \n",
       "4  [Absent], [Present] -                                                                                      \n",
       "5  [Absent], [Present] -                                                                                      \n",
       "6  [Absent], [Present] -                                                                                      \n",
       "7  [Absent], [Present] -                                                                                      \n",
       "8  [Absent], [Present] -                                                                                      \n",
       "9  [Absent], [Present] -                                                                                      \n",
       "10 [Absent], [Present] -                                                                                      \n",
       "11 [Absent], [Present] -                                                                                      \n",
       "12 [0; 4000[, [4000; 11000[, [11000; 12101]                                                                   \n",
       "13 [0; 3000000[, [3000000; 5000000[,[5000000; 5018451]                                                        \n",
       "14 If (Gender==[Male]):[2; 14[, [14; 17:5], ]17:5; 20]If(Gender==[Female]):[2; 12:3[, [12:3; 15:3], ]15:3; 20]\n",
       "15 [93013; 100000[, [100000; 255000[,[255000; 226465[                                                         \n",
       "16 [0; 20[, [20; 40], ]40; 128]                                                                               \n",
       "17 [0; 20[, [20; 40], ]40; 128]                                                                               \n",
       "18 [0; 20[, [20; 40], ]40; 128]                                                                               \n",
       "19 [0; 20[, [20; 40], ]40; 128]                                                                               \n",
       "20 [0; 20[, [20; 40], ]40; 128]                                                                               \n",
       "21 [0; 20[, [20; 40], ]40; 128]                                                                               \n",
       "22 [0; 20[, [20; 40], ]40; 128]                                                                               \n",
       "23 [0; 5], ]5; 1201086]                                                                                       \n",
       "24 [0; 5], ]5; 1201715]                                                                                       \n",
       "25 [0; 5], ]5; 3731527]                                                                                       \n",
       "26 [0; 5], ]5; 808450]                                                                                        \n",
       "27 [0; 5], ]5; 808450]                                                                                        \n",
       "28 [1]; [2]; [3]; :::[16]                                                                                     \n",
       "29 [No Fibrosis], [Portal Fibrosis],Staging (Class Label) [Few Septa], [Many Septa], [Cirrhosis]              "
      ]
     },
     "metadata": {},
     "output_type": "display_data"
    }
   ],
   "source": [
    "df = import(\"../input/hepatitis-c-virus-hcv-for-egyptian-patients/HCV-Egy-Data.csv\")\n",
    "df_or = df\n",
    "df_disc = import(\"../input/hepatitis-c-virus-hcv-for-egyptian-patients/Discretization-Criteria.csv\")\n",
    "head(df_or)\n",
    "df_disc"
   ]
  },
  {
   "cell_type": "markdown",
   "metadata": {
    "_cell_guid": "ddbdb73b-4668-4268-8405-ecc2d445cfa8",
    "_uuid": "6e808a90-32a6-4ecc-b48b-bd0c934c411c"
   },
   "source": [
    "<hr>\n",
    "# Data Cleaning"
   ]
  },
  {
   "cell_type": "markdown",
   "metadata": {
    "_cell_guid": "53be7345-4be3-401a-a018-154c257a1d6b",
    "_uuid": "dac06528-49f9-4a30-80f5-54519c26a4e5"
   },
   "source": [
    "Discretised Data as per expert guided **discretization criteria** dataset"
   ]
  },
  {
   "cell_type": "code",
   "execution_count": 4,
   "metadata": {
    "_cell_guid": "0676fc95-0eb4-4bf9-8da1-1d16605cf571",
    "_uuid": "8f2c51ce-34ec-4e19-9580-bfcdda5c1600"
   },
   "outputs": [
    {
     "data": {
      "text/html": [
       "<table>\n",
       "<caption>A data.frame: 6 × 29</caption>\n",
       "<thead>\n",
       "\t<tr><th></th><th scope=col>Age</th><th scope=col>Gender</th><th scope=col>BMI</th><th scope=col>Fever</th><th scope=col>Nausea/Vomting</th><th scope=col>Headache</th><th scope=col>Diarrhea</th><th scope=col>Fatigue &amp; generalized bone ache</th><th scope=col>Jaundice</th><th scope=col>Epigastric pain</th><th scope=col>⋯</th><th scope=col>ALT 36</th><th scope=col>ALT 48</th><th scope=col>ALT after 24 w</th><th scope=col>RNA Base</th><th scope=col>RNA 4</th><th scope=col>RNA 12</th><th scope=col>RNA EOT</th><th scope=col>RNA EF</th><th scope=col>Baseline histological Grading</th><th scope=col>Baselinehistological staging</th></tr>\n",
       "\t<tr><th></th><th scope=col>&lt;fct&gt;</th><th scope=col>&lt;fct&gt;</th><th scope=col>&lt;fct&gt;</th><th scope=col>&lt;fct&gt;</th><th scope=col>&lt;fct&gt;</th><th scope=col>&lt;fct&gt;</th><th scope=col>&lt;fct&gt;</th><th scope=col>&lt;fct&gt;</th><th scope=col>&lt;fct&gt;</th><th scope=col>&lt;fct&gt;</th><th scope=col>⋯</th><th scope=col>&lt;fct&gt;</th><th scope=col>&lt;fct&gt;</th><th scope=col>&lt;fct&gt;</th><th scope=col>&lt;fct&gt;</th><th scope=col>&lt;fct&gt;</th><th scope=col>&lt;fct&gt;</th><th scope=col>&lt;fct&gt;</th><th scope=col>&lt;fct&gt;</th><th scope=col>&lt;fct&gt;</th><th scope=col>&lt;fct&gt;</th></tr>\n",
       "</thead>\n",
       "<tbody>\n",
       "\t<tr><th scope=row>1</th><td>(52,57]</td><td>Male  </td><td>[35,40]  </td><td>Present</td><td>Absent </td><td>Absent </td><td>Absent </td><td>Present</td><td>Present</td><td>Present</td><td>⋯</td><td>[0,20]  </td><td>[0,20]  </td><td>[0,20]  </td><td>(5,1.2e+06]</td><td>(5,1.2e+06]</td><td>(5,3.73e+06]</td><td>[0,5]       </td><td>[0,5]       </td><td>13</td><td>[Few Septa]      </td></tr>\n",
       "\t<tr><th scope=row>2</th><td>(42,47]</td><td>Male  </td><td>[25,30)  </td><td>Absent </td><td>Present</td><td>Present</td><td>Absent </td><td>Present</td><td>Present</td><td>Absent </td><td>⋯</td><td>(40,128]</td><td>(40,128]</td><td>(40,128]</td><td>(5,1.2e+06]</td><td>(5,1.2e+06]</td><td>(5,3.73e+06]</td><td>(5,8.08e+05]</td><td>(5,8.08e+05]</td><td>4 </td><td>[Few Septa]      </td></tr>\n",
       "\t<tr><th scope=row>3</th><td>(52,57]</td><td>Male  </td><td>[30,35)  </td><td>Present</td><td>Present</td><td>Present</td><td>Present</td><td>Absent </td><td>Absent </td><td>Absent </td><td>⋯</td><td>[0,20]  </td><td>[0,20]  </td><td>[0,20]  </td><td>(5,1.2e+06]</td><td>(5,1.2e+06]</td><td>[0,5]       </td><td>(5,8.08e+05]</td><td>(5,8.08e+05]</td><td>4 </td><td>[Cirrhosis]      </td></tr>\n",
       "\t<tr><th scope=row>4</th><td>(47,52]</td><td>Female</td><td>[30,35)  </td><td>Absent </td><td>Present</td><td>Absent </td><td>Present</td><td>Absent </td><td>Present</td><td>Absent </td><td>⋯</td><td>(40,128]</td><td>(40,128]</td><td>(20,40] </td><td>(5,1.2e+06]</td><td>(5,1.2e+06]</td><td>(5,3.73e+06]</td><td>(5,8.08e+05]</td><td>(5,8.08e+05]</td><td>10</td><td>[Many Septa]     </td></tr>\n",
       "\t<tr><th scope=row>5</th><td>(57,62]</td><td>Male  </td><td>[30,35)  </td><td>Absent </td><td>Absent </td><td>Present</td><td>Absent </td><td>Present</td><td>Present</td><td>Present</td><td>⋯</td><td>(40,128]</td><td>(40,128]</td><td>(20,40] </td><td>(5,1.2e+06]</td><td>(5,1.2e+06]</td><td>(5,3.73e+06]</td><td>(5,8.08e+05]</td><td>(5,8.08e+05]</td><td>11</td><td>[Portal Fibrosis]</td></tr>\n",
       "\t<tr><th scope=row>6</th><td>(57,62]</td><td>Female</td><td>[18.5,25)</td><td>Present</td><td>Present</td><td>Present</td><td>Absent </td><td>Present</td><td>Present</td><td>Absent </td><td>⋯</td><td>(40,128]</td><td>(40,128]</td><td>(20,40] </td><td>(5,1.2e+06]</td><td>(5,1.2e+06]</td><td>[0,5]       </td><td>[0,5]       </td><td>[0,5]       </td><td>4 </td><td>[Cirrhosis]      </td></tr>\n",
       "</tbody>\n",
       "</table>\n"
      ],
      "text/latex": [
       "A data.frame: 6 × 29\n",
       "\\begin{tabular}{r|lllllllllllllllllllll}\n",
       "  & Age & Gender & BMI & Fever & Nausea/Vomting & Headache & Diarrhea & Fatigue \\& generalized bone ache & Jaundice & Epigastric pain & ⋯ & ALT 36 & ALT 48 & ALT after 24 w & RNA Base & RNA 4 & RNA 12 & RNA EOT & RNA EF & Baseline histological Grading & Baselinehistological staging\\\\\n",
       "  & <fct> & <fct> & <fct> & <fct> & <fct> & <fct> & <fct> & <fct> & <fct> & <fct> & ⋯ & <fct> & <fct> & <fct> & <fct> & <fct> & <fct> & <fct> & <fct> & <fct> & <fct>\\\\\n",
       "\\hline\n",
       "\t1 & (52,57{]} & Male   & {[}35,40{]}   & Present & Absent  & Absent  & Absent  & Present & Present & Present & ⋯ & {[}0,20{]}   & {[}0,20{]}   & {[}0,20{]}   & (5,1.2e+06{]} & (5,1.2e+06{]} & (5,3.73e+06{]} & {[}0,5{]}        & {[}0,5{]}        & 13 & {[}Few Septa{]}      \\\\\n",
       "\t2 & (42,47{]} & Male   & {[}25,30)   & Absent  & Present & Present & Absent  & Present & Present & Absent  & ⋯ & (40,128{]} & (40,128{]} & (40,128{]} & (5,1.2e+06{]} & (5,1.2e+06{]} & (5,3.73e+06{]} & (5,8.08e+05{]} & (5,8.08e+05{]} & 4  & {[}Few Septa{]}      \\\\\n",
       "\t3 & (52,57{]} & Male   & {[}30,35)   & Present & Present & Present & Present & Absent  & Absent  & Absent  & ⋯ & {[}0,20{]}   & {[}0,20{]}   & {[}0,20{]}   & (5,1.2e+06{]} & (5,1.2e+06{]} & {[}0,5{]}        & (5,8.08e+05{]} & (5,8.08e+05{]} & 4  & {[}Cirrhosis{]}      \\\\\n",
       "\t4 & (47,52{]} & Female & {[}30,35)   & Absent  & Present & Absent  & Present & Absent  & Present & Absent  & ⋯ & (40,128{]} & (40,128{]} & (20,40{]}  & (5,1.2e+06{]} & (5,1.2e+06{]} & (5,3.73e+06{]} & (5,8.08e+05{]} & (5,8.08e+05{]} & 10 & {[}Many Septa{]}     \\\\\n",
       "\t5 & (57,62{]} & Male   & {[}30,35)   & Absent  & Absent  & Present & Absent  & Present & Present & Present & ⋯ & (40,128{]} & (40,128{]} & (20,40{]}  & (5,1.2e+06{]} & (5,1.2e+06{]} & (5,3.73e+06{]} & (5,8.08e+05{]} & (5,8.08e+05{]} & 11 & {[}Portal Fibrosis{]}\\\\\n",
       "\t6 & (57,62{]} & Female & {[}18.5,25) & Present & Present & Present & Absent  & Present & Present & Absent  & ⋯ & (40,128{]} & (40,128{]} & (20,40{]}  & (5,1.2e+06{]} & (5,1.2e+06{]} & {[}0,5{]}        & {[}0,5{]}        & {[}0,5{]}        & 4  & {[}Cirrhosis{]}      \\\\\n",
       "\\end{tabular}\n"
      ],
      "text/markdown": [
       "\n",
       "A data.frame: 6 × 29\n",
       "\n",
       "| <!--/--> | Age &lt;fct&gt; | Gender &lt;fct&gt; | BMI &lt;fct&gt; | Fever &lt;fct&gt; | Nausea/Vomting &lt;fct&gt; | Headache &lt;fct&gt; | Diarrhea &lt;fct&gt; | Fatigue &amp; generalized bone ache &lt;fct&gt; | Jaundice &lt;fct&gt; | Epigastric pain &lt;fct&gt; | ⋯ ⋯ | ALT 36 &lt;fct&gt; | ALT 48 &lt;fct&gt; | ALT after 24 w &lt;fct&gt; | RNA Base &lt;fct&gt; | RNA 4 &lt;fct&gt; | RNA 12 &lt;fct&gt; | RNA EOT &lt;fct&gt; | RNA EF &lt;fct&gt; | Baseline histological Grading &lt;fct&gt; | Baselinehistological staging &lt;fct&gt; |\n",
       "|---|---|---|---|---|---|---|---|---|---|---|---|---|---|---|---|---|---|---|---|---|---|\n",
       "| 1 | (52,57] | Male   | [35,40]   | Present | Absent  | Absent  | Absent  | Present | Present | Present | ⋯ | [0,20]   | [0,20]   | [0,20]   | (5,1.2e+06] | (5,1.2e+06] | (5,3.73e+06] | [0,5]        | [0,5]        | 13 | [Few Septa]       |\n",
       "| 2 | (42,47] | Male   | [25,30)   | Absent  | Present | Present | Absent  | Present | Present | Absent  | ⋯ | (40,128] | (40,128] | (40,128] | (5,1.2e+06] | (5,1.2e+06] | (5,3.73e+06] | (5,8.08e+05] | (5,8.08e+05] | 4  | [Few Septa]       |\n",
       "| 3 | (52,57] | Male   | [30,35)   | Present | Present | Present | Present | Absent  | Absent  | Absent  | ⋯ | [0,20]   | [0,20]   | [0,20]   | (5,1.2e+06] | (5,1.2e+06] | [0,5]        | (5,8.08e+05] | (5,8.08e+05] | 4  | [Cirrhosis]       |\n",
       "| 4 | (47,52] | Female | [30,35)   | Absent  | Present | Absent  | Present | Absent  | Present | Absent  | ⋯ | (40,128] | (40,128] | (20,40]  | (5,1.2e+06] | (5,1.2e+06] | (5,3.73e+06] | (5,8.08e+05] | (5,8.08e+05] | 10 | [Many Septa]      |\n",
       "| 5 | (57,62] | Male   | [30,35)   | Absent  | Absent  | Present | Absent  | Present | Present | Present | ⋯ | (40,128] | (40,128] | (20,40]  | (5,1.2e+06] | (5,1.2e+06] | (5,3.73e+06] | (5,8.08e+05] | (5,8.08e+05] | 11 | [Portal Fibrosis] |\n",
       "| 6 | (57,62] | Female | [18.5,25) | Present | Present | Present | Absent  | Present | Present | Absent  | ⋯ | (40,128] | (40,128] | (20,40]  | (5,1.2e+06] | (5,1.2e+06] | [0,5]        | [0,5]        | [0,5]        | 4  | [Cirrhosis]       |\n",
       "\n"
      ],
      "text/plain": [
       "  Age     Gender BMI       Fever   Nausea/Vomting Headache Diarrhea\n",
       "1 (52,57] Male   [35,40]   Present Absent         Absent   Absent  \n",
       "2 (42,47] Male   [25,30)   Absent  Present        Present  Absent  \n",
       "3 (52,57] Male   [30,35)   Present Present        Present  Present \n",
       "4 (47,52] Female [30,35)   Absent  Present        Absent   Present \n",
       "5 (57,62] Male   [30,35)   Absent  Absent         Present  Absent  \n",
       "6 (57,62] Female [18.5,25) Present Present        Present  Absent  \n",
       "  Fatigue & generalized bone ache Jaundice Epigastric pain ⋯ ALT 36   ALT 48  \n",
       "1 Present                         Present  Present         ⋯ [0,20]   [0,20]  \n",
       "2 Present                         Present  Absent          ⋯ (40,128] (40,128]\n",
       "3 Absent                          Absent   Absent          ⋯ [0,20]   [0,20]  \n",
       "4 Absent                          Present  Absent          ⋯ (40,128] (40,128]\n",
       "5 Present                         Present  Present         ⋯ (40,128] (40,128]\n",
       "6 Present                         Present  Absent          ⋯ (40,128] (40,128]\n",
       "  ALT after 24 w RNA Base    RNA 4       RNA 12       RNA EOT      RNA EF      \n",
       "1 [0,20]         (5,1.2e+06] (5,1.2e+06] (5,3.73e+06] [0,5]        [0,5]       \n",
       "2 (40,128]       (5,1.2e+06] (5,1.2e+06] (5,3.73e+06] (5,8.08e+05] (5,8.08e+05]\n",
       "3 [0,20]         (5,1.2e+06] (5,1.2e+06] [0,5]        (5,8.08e+05] (5,8.08e+05]\n",
       "4 (20,40]        (5,1.2e+06] (5,1.2e+06] (5,3.73e+06] (5,8.08e+05] (5,8.08e+05]\n",
       "5 (20,40]        (5,1.2e+06] (5,1.2e+06] (5,3.73e+06] (5,8.08e+05] (5,8.08e+05]\n",
       "6 (20,40]        (5,1.2e+06] (5,1.2e+06] [0,5]        [0,5]        [0,5]       \n",
       "  Baseline histological Grading Baselinehistological staging\n",
       "1 13                            [Few Septa]                 \n",
       "2 4                             [Few Septa]                 \n",
       "3 4                             [Cirrhosis]                 \n",
       "4 10                            [Many Septa]                \n",
       "5 11                            [Portal Fibrosis]           \n",
       "6 4                             [Cirrhosis]                 "
      ]
     },
     "metadata": {},
     "output_type": "display_data"
    }
   ],
   "source": [
    "df$Age <- cut(df$Age, breaks=c(0, 32, 37, 42, 47, 52, 57, 62), include.lowest=TRUE)\n",
    "df$Gender <- factor(df$Gender, labels=c(\"Male\", \"Female\"))\n",
    "df$BMI <- cut(df$BMI, breaks=c(0, 18.5, 25, 30, 35, 40), include.lowest=TRUE, right=FALSE)\n",
    "\n",
    "for (x in colnames(df[4:10])){\n",
    "    df[[x]] <- factor(df[[x]], levels=c(1, 2), labels=c(\"Absent\", \"Present\"))\n",
    "}\n",
    "\n",
    "df$WBC <- cut(df$WBC, breaks=c(0, 4000, 11000, 12101), include.lowest=TRUE, right=FALSE)\n",
    "df$RBC <- cut(df$RBC, breaks=c(0, 3000000, 5000000, 5018451), include.lowest=TRUE, right=FALSE)\n",
    "\n",
    "hgb_v <- vector()\n",
    "for(x in (1:1385)){\n",
    "    if(df[x,]$Gender == \"Male\"){\n",
    "        if(df[x,]$HGB >= 2 & df[x,]$HGB < 14){ hgb_v[x] = as.character(\"[2,14)\")}\n",
    "        else if(df[x,]$HGB >= 14 & df[x,]$HGB <= 17.5){ hgb_v[x] = as.character(\"[14,17.5]\")}\n",
    "        else{ df[x,]$HGB = as.character(\"(17.5,20]\")}\n",
    "    } else {\n",
    "        if(df[x,]$HGB >= 2 & df[x,]$HGB < 12.3){ hgb_v[x] = as.character(\"[2,12.3)\")}\n",
    "        else if(df[x,]$HGB >= 12.3 & df[x,]$HGB <= 15.3){ hgb_v[x] = as.character(\"[12.3, 15.3]\")}\n",
    "        else{ df[x,]$HGB = as.character(\"(15.3, 20]\")}\n",
    "    }\n",
    "}\n",
    "df$HGB <- factor(hgb_v)\n",
    "\n",
    "df$Plat <- cut(df$Plat, breaks=c(93013, 100000, 255000, 226465), include.lowest=TRUE, right=FALSE)\n",
    "\n",
    "for (x in colnames(df[15:22])){\n",
    "    df[[x]] <- cut(df[[x]], breaks=c(0, 20, 40, 128), include.lowest=TRUE, right=TRUE)\n",
    "}\n",
    "\n",
    "df[\"RNA Base\"] <- cut(df[[\"RNA Base\"]], breaks=c(0, 5, 1201086), include.lowest=TRUE, right=TRUE)\n",
    "df[\"RNA 4\"] <- cut(df[[\"RNA 4\"]], breaks=c(0, 5, 1201715), include.lowest=TRUE, right=TRUE)\n",
    "df[\"RNA 12\"] <- cut(df[[\"RNA 12\"]], breaks=c(0, 5, 3731527), include.lowest=TRUE, right=TRUE)\n",
    "df[\"RNA EOT\"] <- cut(df[[\"RNA EOT\"]], breaks=c(0, 5, 808450), include.lowest=TRUE, right=TRUE)\n",
    "df[\"RNA EF\"] <- cut(df[[\"RNA EF\"]], breaks=c(0, 5, 808450), include.lowest=TRUE, right=TRUE)\n",
    "df[[\"Baseline histological Grading\"]] <- as.factor(df[[\"Baseline histological Grading\"]])\n",
    "df[[\"Baselinehistological staging\"]] <- factor(df[[\"Baselinehistological staging\"]], levels=c(0, 1, 2, 3, 4), labels=c(\"[No Fibrosis]\", \"[Portal Fibrosis]\", \"[Few Septa]\", \"[Many Septa]\", \"[Cirrhosis]\"))\n",
    "head(df)"
   ]
  },
  {
   "cell_type": "code",
   "execution_count": 5,
   "metadata": {
    "_cell_guid": "c26d02fa-24d2-4704-a5d0-f60016a3827c",
    "_uuid": "7b5c7801-f8b0-437c-8f2e-fdbba451dc6f"
   },
   "outputs": [],
   "source": [
    "export(df, \"HCV-Discretised.csv\")"
   ]
  }
 ],
 "metadata": {
  "kernelspec": {
   "display_name": "R",
   "language": "R",
   "name": "ir"
  },
  "language_info": {
   "codemirror_mode": "r",
   "file_extension": ".r",
   "mimetype": "text/x-r-source",
   "name": "R",
   "pygments_lexer": "r",
   "version": "3.6.0"
  }
 },
 "nbformat": 4,
 "nbformat_minor": 1
}
